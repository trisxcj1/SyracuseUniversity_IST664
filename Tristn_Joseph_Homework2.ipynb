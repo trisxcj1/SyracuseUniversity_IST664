{
 "cells": [
  {
   "cell_type": "markdown",
   "id": "5d1354b8-163b-404f-aa36-7dd1d5b3fee9",
   "metadata": {},
   "source": [
    "# Trist'n Joseph - IST664 - Homework 2"
   ]
  },
  {
   "cell_type": "markdown",
   "id": "c5f15812-2028-4b4d-82ee-247f849d1cde",
   "metadata": {},
   "source": [
    "## Set Up"
   ]
  },
  {
   "cell_type": "code",
   "execution_count": 1,
   "id": "c05a6eb3-1974-4de4-8b3f-9834e16d82e5",
   "metadata": {},
   "outputs": [
    {
     "name": "stderr",
     "output_type": "stream",
     "text": [
      "[nltk_data] Downloading package stopwords to\n",
      "[nltk_data]     C:\\Users\\trist\\AppData\\Roaming\\nltk_data...\n",
      "[nltk_data]   Package stopwords is already up-to-date!\n"
     ]
    }
   ],
   "source": [
    "import string\n",
    "import re\n",
    "import nltk\n",
    "from nltk import FreqDist\n",
    "from nltk.collocations import *\n",
    "from nltk import word_tokenize, sent_tokenize\n",
    "from nltk.stem import LancasterStemmer, PorterStemmer\n",
    "from nltk.corpus import stopwords\n",
    "nltk.download('stopwords')\n",
    "from nltk.corpus import treebank\n",
    "\n",
    "import numpy as np\n",
    "\n",
    "from matplotlib import pyplot as plt\n",
    "%matplotlib inline"
   ]
  },
  {
   "cell_type": "markdown",
   "id": "af8674e2-2807-44a5-92f6-8bb04dea475a",
   "metadata": {},
   "source": [
    "## Data Loading"
   ]
  },
  {
   "cell_type": "code",
   "execution_count": 2,
   "id": "f659f37f-392e-4562-a32d-22277337004c",
   "metadata": {},
   "outputs": [],
   "source": [
    "# financial articles\n",
    "raw_article_text_path = open(\"C:/Users/trist/OneDrive/Desktop/Trist'n/School/Syracuse University/Q4 2021/IST664/Assignments/Homework 1/article_text.txt\")\n",
    "raw_article_text = raw_article_text_path.read()\n",
    "\n",
    "# hamlet\n",
    "hamlet_text = nltk.corpus.gutenberg.raw(nltk.corpus.gutenberg.fileids( )[15])"
   ]
  },
  {
   "cell_type": "code",
   "execution_count": 3,
   "id": "eeaa2d34-97b9-4111-8f8e-737cefefac6c",
   "metadata": {},
   "outputs": [],
   "source": [
    "def ug__regex_pattern_match(words):\n",
    "    \"\"\"\n",
    "    \"\"\"    \n",
    "    ug__regex_pattern = re.compile('^[^a-z]+$')\n",
    "    if (ug__regex_pattern.match(words)):\n",
    "        return True\n",
    "    else:\n",
    "        return False\n",
    "    \n",
    "def bg__regex_tokenize(words):\n",
    "    \"\"\"\n",
    "    \"\"\"  \n",
    "    pattern = r''' (?x)\n",
    "        (?:[A-Z]\\.)+\n",
    "        | (?:--+)\n",
    "        | \\w+(?:-\\w+)*        \n",
    "        | \\$?\\d+(?:\\.\\d+)?%?\n",
    "        | ['\\\".?!,:;/]+\n",
    "        | [][.,;â€â€™?():-_%#â€™]\n",
    "        '''\n",
    "    \n",
    "    tokenized_text = nltk.regexp_tokenize(words, pattern)\n",
    "    \n",
    "    return tokenized_text"
   ]
  },
  {
   "cell_type": "code",
   "execution_count": 4,
   "id": "864b2c0a-0f1d-4e91-ad78-337e0a37b2be",
   "metadata": {},
   "outputs": [],
   "source": [
    "def clean_text_data(raw_text):\n",
    "    \"\"\"\n",
    "    \"\"\"\n",
    "    porter = nltk.PorterStemmer()\n",
    "    nltkstopwords = nltk.corpus.stopwords.words('english')\n",
    "    all_stopwords = nltkstopwords + [\"MarketWatch\", \"marketwatch\", \"mw\", \"zachs\", \"zacks\", \"barron\"]\n",
    "    \n",
    "    # need to develop different methods for unigrams vs bigrams etc\n",
    "    # -- unigram\n",
    "    ug__text_tokenized = nltk.word_tokenize(raw_text)\n",
    "    ug__text_words = [w.lower() for w in ug__text_tokenized]\n",
    "    ug__text_words = [porter.stem(word) for word in ug__text_words]\n",
    "    ug__text_words_filtered = [w for w in ug__text_words if not ug__regex_pattern_match(w)]\n",
    "    ug__text_words_filtered = [w for w in ug__text_words_filtered if not w in all_stopwords]\n",
    "    ug__word_frequency_distribution = FreqDist(ug__text_words_filtered)\n",
    "    \n",
    "    # -- bigram\n",
    "    bigram_measures = nltk.collocations.BigramAssocMeasures()\n",
    "    bg__text_tokenized = bg__regex_tokenize(raw_text)\n",
    "    bg__text_words = [w for w in bg__text_tokenized]\n",
    "    \n",
    "    # ---- frequencies\n",
    "    bg__fnder_freq = BigramCollocationFinder.from_words(bg__text_words)\n",
    "    bg__fnder_freq.apply_word_filter(ug__regex_pattern_match)\n",
    "    bg__fnder_freq.apply_word_filter(lambda w: w in all_stopwords)\n",
    "    bg__scored_freq = bg__fnder_freq.score_ngrams(bigram_measures.raw_freq)\n",
    "    \n",
    "    # ---- PMI\n",
    "    bg__fnder_pmi = BigramCollocationFinder.from_words(bg__text_words)\n",
    "    bg__fnder_pmi.apply_freq_filter(5)\n",
    "    bg__scored_pmi = bg__fnder_pmi.score_ngrams(bigram_measures.pmi)\n",
    "    \n",
    "    # -- trigram\n",
    "    trigram_measures = nltk.collocations.TrigramAssocMeasures()\n",
    "    tg__text_tokenized = bg__regex_tokenize(raw_text)\n",
    "    tg__text_words = [w for w in tg__text_tokenized]\n",
    "    \n",
    "    # ---- frequencies\n",
    "    tg__fnder_freq = TrigramCollocationFinder.from_words(tg__text_words)\n",
    "    tg__fnder_freq.apply_word_filter(ug__regex_pattern_match)\n",
    "    tg__fnder_freq.apply_word_filter(lambda w: w in all_stopwords)\n",
    "    tg__scored_freq = tg__fnder_freq.score_ngrams(trigram_measures.raw_freq)\n",
    "    \n",
    "    # ---- PMI\n",
    "    tg__fnder_pmi = TrigramCollocationFinder.from_words(tg__text_words)\n",
    "    tg__fnder_pmi.apply_freq_filter(5)\n",
    "    tg__scored_pmi = tg__fnder_pmi.score_ngrams(trigram_measures.pmi)\n",
    "    \n",
    "    # -- output\n",
    "    od  = {\n",
    "        'unigrams': {\n",
    "            'frequency': ug__word_frequency_distribution,\n",
    "            'tokens': ug__text_tokenized,\n",
    "            'cleaned_words': ug__text_words_filtered\n",
    "        },\n",
    "        'bigrams': {\n",
    "            'frequency': bg__scored_freq,\n",
    "            'pmi': bg__scored_pmi,\n",
    "            'tokens': bg__text_tokenized\n",
    "        },\n",
    "        'trigrams': {\n",
    "            'frequency': tg__scored_freq,\n",
    "            'pmi': tg__scored_pmi, \n",
    "            'tokens': tg__text_tokenized\n",
    "        }\n",
    "    }\n",
    "    return od"
   ]
  },
  {
   "cell_type": "code",
   "execution_count": 5,
   "id": "13098aa9-c588-4274-b37b-8c00625965f7",
   "metadata": {},
   "outputs": [],
   "source": [
    "def tag_POS(tagging_text):\n",
    "    \"\"\"\n",
    "    \"\"\"\n",
    "    # Separating the data into training and test data\n",
    "    treebank_text = treebank.raw()\n",
    "    treebank_tokens = treebank.words()\n",
    "    treebank_tagged_words = treebank.tagged_words()\n",
    "    treebank_tagged = treebank.tagged_sents()\n",
    "    \n",
    "    t0 = nltk.DefaultTagger('NN')\n",
    "    t1 = nltk.UnigramTagger(treebank_tagged, backoff=t0)\n",
    "    t2 = nltk.BigramTagger(treebank_tagged, backoff=t1)\n",
    "    \n",
    "    raw_text_split = nltk.sent_tokenize(tagging_text)\n",
    "    text_tokenized = [bg__regex_tokenize(word) for word in raw_text_split]\n",
    "    \n",
    "    tagged_text = [t2.tag(tokens) for tokens in text_tokenized]\n",
    "    \n",
    "    tagged_text_flat = [pair for tagging_text in tagged_text for pair in tagging_text]\n",
    "    \n",
    "    return tagged_text_flat"
   ]
  },
  {
   "cell_type": "markdown",
   "id": "7f4f416e-e669-4ad0-afb1-39ff5fc4ac86",
   "metadata": {},
   "source": [
    "## Grammar Creation (for sentence POS parsing)"
   ]
  },
  {
   "cell_type": "markdown",
   "id": "3a253c8d-b588-4aac-851c-0cbd879b137f",
   "metadata": {},
   "source": [
    "### Adjectives"
   ]
  },
  {
   "cell_type": "code",
   "execution_count": 6,
   "id": "b329930a-8964-43ba-87b4-821856f599ed",
   "metadata": {},
   "outputs": [],
   "source": [
    "grammar_adjph = \"ADJPH: {<RB.?>+<JJ.?>}\"\n",
    "chunk_parser_adj = nltk.RegexpParser(grammar_adjph)"
   ]
  },
  {
   "cell_type": "markdown",
   "id": "bac7d0ea-7323-403a-bd54-5dee2f1c650c",
   "metadata": {},
   "source": [
    "### Adverbs"
   ]
  },
  {
   "cell_type": "code",
   "execution_count": 7,
   "id": "e8c65e5c-71c0-47f3-8900-815fa486a010",
   "metadata": {},
   "outputs": [],
   "source": [
    "grammar_advph = \"ADVPH: {<RB>+<RB>}\"\n",
    "chunk_parser_advph = nltk.RegexpParser(grammar_advph)"
   ]
  },
  {
   "cell_type": "markdown",
   "id": "93a10cf2-4cfd-49bc-954b-80cdbb47f793",
   "metadata": {},
   "source": [
    "### Nouns"
   ]
  },
  {
   "cell_type": "code",
   "execution_count": 8,
   "id": "f5316167-3a01-493c-ae2a-f68ddaada386",
   "metadata": {},
   "outputs": [],
   "source": [
    "grammar_nph = \"NPH: {<NNP> | <DT>+<NN.?> | <DT>+<N.?>+<P.?>+<N.?>}\"\n",
    "chunk_parser_nph = nltk.RegexpParser(grammar_nph)"
   ]
  },
  {
   "cell_type": "markdown",
   "id": "c9c24a87-bf28-4c87-a859-13445dcb4499",
   "metadata": {},
   "source": [
    "### Verbs"
   ]
  },
  {
   "cell_type": "code",
   "execution_count": 9,
   "id": "5e94ba02-c26b-4fe7-b6e5-52b41ad3a7ab",
   "metadata": {},
   "outputs": [],
   "source": [
    "grammar_vph = \"VPH: {<VB.?>+<NNP> | <VB.?>+<DT>+<NN.?> | <VB.?>+<DT>+<N.?>+<P.?>+<N.?>}\"\n",
    "chunk_parser_vph = nltk.RegexpParser(grammar_vph)"
   ]
  },
  {
   "cell_type": "markdown",
   "id": "d975b5b8-8008-4d30-8e80-74099aaf8b89",
   "metadata": {},
   "source": [
    "## MarketWatch"
   ]
  },
  {
   "cell_type": "code",
   "execution_count": 10,
   "id": "371e161d-9ccf-4ab7-8aba-9911242d1ddf",
   "metadata": {},
   "outputs": [],
   "source": [
    "raw_article_text_textsplit = nltk.sent_tokenize(raw_article_text)"
   ]
  },
  {
   "cell_type": "code",
   "execution_count": 11,
   "id": "1637ecf4-3833-4e1d-9da1-dbb768354ab8",
   "metadata": {},
   "outputs": [],
   "source": [
    "article_text_tokenized = [clean_text_data(sentence)['bigrams']['tokens'] for sentence in raw_article_text_textsplit]"
   ]
  },
  {
   "cell_type": "code",
   "execution_count": 12,
   "id": "2fe4d938-71f9-46a0-935d-1cf969df738d",
   "metadata": {},
   "outputs": [],
   "source": [
    "nltkstopwords = nltk.corpus.stopwords.words('english')\n",
    "all_stopwords = nltkstopwords + [\"MarketWatch \", \"MarketWatch\", \"marketwatch\", \"mw\", \"zachs\", \"zacks\", \"barron\"]\n",
    "article_cleaned_text_tokenized = [w for w in article_text_tokenized if not w in all_stopwords]"
   ]
  },
  {
   "cell_type": "code",
   "execution_count": 13,
   "id": "fd84f1de-826f-4638-a39e-f2e3f4c283d7",
   "metadata": {},
   "outputs": [],
   "source": [
    "article_tagged_text = [nltk.pos_tag(token) for token in article_cleaned_text_tokenized]"
   ]
  },
  {
   "cell_type": "code",
   "execution_count": 14,
   "id": "5ad34b8c-a394-4a6a-8ecd-36b505368580",
   "metadata": {},
   "outputs": [
    {
     "name": "stdout",
     "output_type": "stream",
     "text": [
      "[[('Tesla-Hertz', 'JJ'), ('Deal', 'NNP'), ('Is', 'VBZ'), ('Great', 'NNP'), ('News', 'NNP'), ('for', 'IN'), ('Carvana', 'NNP'), ('Stock', 'NNP'), ('MarketWatch', 'NNP'), ('The', 'DT'), ('move', 'NN'), ('by', 'IN'), ('Hertz', 'NNP'), ('Global', 'NNP'), ('to', 'TO'), ('bulk', 'VB'), ('up', 'RP'), ('its', 'PRP$'), ('global', 'JJ'), ('fleet', 'NN'), ('of', 'IN'), ('rentals', 'NNS'), ('with', 'IN'), ('100', 'CD'), (',', ','), ('000', 'CD'), ('electric', 'JJ'), ('vehicles', 'NNS'), ('from', 'IN'), ('Tesla', 'NNP'), ('is', 'VBZ'), ('great', 'JJ'), ('news', 'NN'), ('for', 'IN'), ('Carvana', 'NNP'), (',', ','), ('which', 'WDT'), ('will', 'MD'), ('work', 'VB'), ('with', 'IN'), ('Hertz', 'NNP'), ('to', 'TO'), ('dispose', 'VB'), ('of', 'IN'), ('its', 'PRP$'), ('unwanted', 'JJ'), ('cars', 'NNS'), ('.', '.')], [('Tesla', 'NNP'), ('Bulls', 'NNP'), ('Are', 'NNP'), ('Hiking', 'NNP'), ('Price', 'NNP'), ('Targets', 'NNS'), ('.', '.')], [('Bears', 'NNS'), ('Are', 'VBP'), ('Holding', 'VBG'), ('Firm', 'NNP'), ('.', '.')], [('MarketWatch', 'NN'), ('Tuesday', 'NNP'), ('evening', 'NN'), (',', ','), ('Goldman', 'NNP'), ('Sachs', 'NNP'), ('analyst', 'NN'), ('Mark', 'NNP'), ('Delaney', 'NNP'), ('raised', 'VBD'), ('his', 'PRP$'), ('Tesla', 'NNP'), ('price', 'NN'), ('target', 'NN'), ('to', 'TO'), ('$1', 'VB'), (',', ','), ('125', 'CD'), ('from', 'IN'), ('$905', 'NN'), ('a', 'DT'), ('share', 'NN'), ('.', '.')], [('He', 'PRP'), ('is', 'VBZ'), ('a', 'DT'), ('Tesla', 'NNP'), ('bull', 'NN'), (',', ','), ('rating', 'NN'), ('shares', 'NNS'), ('of', 'IN'), ('the', 'DT'), ('electric-vehicle', 'NN'), ('giant', 'NN'), ('at', 'IN'), ('Buy', 'NNP'), ('.', '.')]]\n"
     ]
    }
   ],
   "source": [
    "print(article_tagged_text[:5])"
   ]
  },
  {
   "cell_type": "markdown",
   "id": "ede9855f-1855-43ad-bf1f-76eab43a5804",
   "metadata": {},
   "source": [
    "### Adjectives"
   ]
  },
  {
   "cell_type": "code",
   "execution_count": 15,
   "id": "a8b5935c-7dc2-4902-b0dc-8d8bd06fede7",
   "metadata": {},
   "outputs": [
    {
     "name": "stdout",
     "output_type": "stream",
     "text": [
      "First 10 adjective phrases for Tesla articles are:  []\n"
     ]
    }
   ],
   "source": [
    "# tagging the adjective phrases \n",
    "article_adjph_tags = []\n",
    "for sentence in article_tagged_text:\n",
    "    if len(sentence) > 0:\n",
    "        tree = chunk_parser_adj.parse(sentence)\n",
    "        for subtree in tree.subtrees():\n",
    "            if subtree.label() == 'ADJHP':\n",
    "                article_adjph_tags.append(subtree)\n",
    "                \n",
    "# visualizing the adjective phrases\n",
    "article_adjph_phrases = []\n",
    "for phrase in article_adjph_tags:\n",
    "    temp = ''\n",
    "    for w, t in phrase:\n",
    "        temp += w+ ' '    \n",
    "    article_adjph_phrases.append(temp)\n",
    "    \n",
    "print('First 10 adjective phrases for Tesla articles are: ', article_adjph_phrases[:10])"
   ]
  },
  {
   "cell_type": "code",
   "execution_count": 16,
   "id": "7f461c3e-98d8-45fd-8c25-c4dba181181a",
   "metadata": {},
   "outputs": [
    {
     "name": "stdout",
     "output_type": "stream",
     "text": [
      "Top adjective phrases by frequency within the Tesla articles are: \n"
     ]
    }
   ],
   "source": [
    "# examining the freuqncy of the adjective phrases\n",
    "article_adjph_frequency = nltk.FreqDist(article_adjph_phrases)\n",
    "\n",
    "print('Top adjective phrases by frequency within the Tesla articles are: ')\n",
    "for word, freq in article_adjph_frequency.most_common(50):\n",
    "    print(word, freq)"
   ]
  },
  {
   "cell_type": "code",
   "execution_count": 17,
   "id": "10969d91-7e15-4509-a576-7b6e9b9f597b",
   "metadata": {},
   "outputs": [
    {
     "name": "stdout",
     "output_type": "stream",
     "text": [
      "The top 50 adjectives within the Tesla articles are:\n",
      "high 97\n",
      "52-week 89\n",
      "all-around 88\n",
      "electric 81\n",
      "new 49\n",
      "consecutive 46\n",
      "short 43\n",
      "second 40\n",
      "more 38\n",
      "strong 36\n",
      "recent 29\n",
      "great 24\n",
      "higher 22\n",
      "positive 22\n",
      "underperforms 22\n",
      "third 19\n",
      "Chinese 18\n",
      "other 18\n",
      "big 17\n",
      "first 16\n",
      "global 14\n",
      "latest 14\n",
      "good 14\n",
      "mixed 14\n",
      "much 13\n",
      "Big 13\n",
      "last 13\n",
      "More 13\n",
      "next 12\n",
      "rough 12\n",
      "three-day 12\n",
      "favorable 12\n",
      "autonomous 11\n",
      "automotive 11\n",
      "public 11\n",
      "many 11\n",
      "self-driving 11\n",
      "bullish 10\n",
      "poor 10\n",
      "own 9\n",
      "little 9\n",
      "Other 9\n",
      "such 9\n",
      "electric-vehicle 9\n",
      "Self-Driving 9\n",
      "all-time 8\n",
      "exchange-traded 8\n",
      "$1 8\n",
      "few 8\n",
      "best 8\n"
     ]
    }
   ],
   "source": [
    "# top 50 adjective tokens\n",
    "article_adjective_tokens = []\n",
    "for sentence in article_tagged_text:\n",
    "    for word, pos in sentence:\n",
    "        if pos in ['JJ', 'JJR', 'JJS']: # adjective, comparative, superlative\n",
    "            if len(word) > 1:\n",
    "                article_adjective_tokens.append(word)\n",
    "                \n",
    "article_adjective_frequency = nltk.FreqDist(article_adjective_tokens)\n",
    "\n",
    "print('The top 50 adjectives within the Tesla articles are:')\n",
    "for word, freq in article_adjective_frequency.most_common(50):\n",
    "    print(word, freq)"
   ]
  },
  {
   "cell_type": "code",
   "execution_count": 18,
   "id": "f949de52-881b-41e2-a1a9-c7d5df3d7ff5",
   "metadata": {},
   "outputs": [],
   "source": [
    "# # calculating the average length of a adjective phrase\n",
    "# article_adjph_phrases_total_length = sum(len(phrase) for phrase in article_adjph_phrases)\n",
    "# article_adjph_phrases_average_length = article_adjph_phrases_total_length/len(article_adjph_phrases)\n",
    "\n",
    "# print('The average length of an adjective phrase within the Tesla articles is ~{} words.'.format(article_adjph_phrases_average_length))"
   ]
  },
  {
   "cell_type": "markdown",
   "id": "6be5869f-8258-4337-9622-bb3696a38469",
   "metadata": {},
   "source": [
    "### Adverbs"
   ]
  },
  {
   "cell_type": "code",
   "execution_count": 19,
   "id": "4906167a-fc6f-4de5-929a-054101146ac0",
   "metadata": {},
   "outputs": [
    {
     "name": "stdout",
     "output_type": "stream",
     "text": [
      "First 10 adverb phrases for Tesla articles are:  ['as soon ', 'as well ', 'pretty well ', 'also enough ', 'up almost ', 'ever so slowly ahead ', 'Not only ', 'very well ', 'not just ', 'fun again ']\n"
     ]
    }
   ],
   "source": [
    "# tagging the adverb phrases \n",
    "article_advph_tags = []\n",
    "for sentence in article_tagged_text:\n",
    "    if len(sentence) > 0:\n",
    "        tree = chunk_parser_advph.parse(sentence)\n",
    "        for subtree in tree.subtrees():\n",
    "            if subtree.label() == 'ADVPH':\n",
    "                article_advph_tags.append(subtree)\n",
    "                \n",
    "# visualizing the adverb phrases\n",
    "article_advph_phrases = []\n",
    "for phrase in article_advph_tags:\n",
    "    temp = ''\n",
    "    for w, t in phrase:\n",
    "        temp += w+ ' '    \n",
    "    article_advph_phrases.append(temp)\n",
    "    \n",
    "print('First 10 adverb phrases for Tesla articles are: ', article_advph_phrases[:10])"
   ]
  },
  {
   "cell_type": "code",
   "execution_count": 64,
   "id": "3b3c81e9-e9c6-497f-9099-d93ae689c3e0",
   "metadata": {},
   "outputs": [
    {
     "name": "stdout",
     "output_type": "stream",
     "text": [
      "Top adverb phrases by frequency within the Tesla articles are: \n",
      "as well  2\n",
      "down again  2\n",
      "as soon  1\n",
      "pretty well  1\n",
      "also enough  1\n",
      "up almost  1\n",
      "ever so slowly ahead  1\n",
      "Not only  1\n",
      "very well  1\n",
      "not just  1\n",
      "fun again  1\n",
      "just yet  1\n",
      "down almost  1\n",
      "about much  1\n",
      "right now  1\n",
      "up just  1\n",
      "anytime soon  1\n",
      "not only  1\n",
      "much lately  1\n",
      "Maybe Not  1\n",
      "as much  1\n",
      "certainly not  1\n",
      "not necessarily  1\n",
      "anywhere soon  1\n",
      "now very likely  1\n",
      "up again  1\n",
      "so much  1\n",
      "out so well  1\n",
      "just not  1\n",
      "just maybe  1\n",
      "away usually  1\n",
      "Right now  1\n",
      "not so  1\n"
     ]
    }
   ],
   "source": [
    "# examining the freuqncy of the adverb phrases\n",
    "article_advph_frequency = nltk.FreqDist(article_advph_phrases)\n",
    "article_advph_frequency_words = []\n",
    "article_advph_frequency_fs = []\n",
    "\n",
    "\n",
    "print('Top adverb phrases by frequency within the Tesla articles are: ')\n",
    "for word, freq in article_advph_frequency.most_common(50):\n",
    "    article_advph_frequency_words.append(word)\n",
    "    article_advph_frequency_fs.append(freq)\n",
    "    print(word, freq)"
   ]
  },
  {
   "cell_type": "code",
   "execution_count": 65,
   "id": "4de89f24-52f6-4fda-94c9-7ba0d446933a",
   "metadata": {},
   "outputs": [
    {
     "data": {
      "text/plain": [
       "Text(0.5, 1.0, 'Distribution of (Top 20) Adverb Phrases, Tesla Articles')"
      ]
     },
     "execution_count": 65,
     "metadata": {},
     "output_type": "execute_result"
    },
    {
     "data": {
      "image/png": "[encoded data removed]",
      "text/plain": [
       "<Figure size 1440x360 with 1 Axes>"
      ]
     },
     "metadata": {
      "needs_background": "light"
     },
     "output_type": "display_data"
    }
   ],
   "source": [
    "fig = plt.figure(figsize = (20, 5))\n",
    "plt.plot(article_advph_frequency_words[:21], article_advph_frequency_fs[:21])\n",
    "plt.xticks(rotation = 60)\n",
    "plt.ylabel('Frequency')\n",
    "plt.xlabel('Phrase')\n",
    "plt.title('Distribution of (Top 20) Adverb Phrases, Tesla Articles')"
   ]
  },
  {
   "cell_type": "code",
   "execution_count": 21,
   "id": "a3ced5cc-62b9-45fe-8409-9168f6accaac",
   "metadata": {},
   "outputs": [
    {
     "name": "stdout",
     "output_type": "stream",
     "text": [
      "The top 50 adverbs within the Tesla articles are:\n",
      "Here 40\n",
      "just 28\n",
      "not 25\n",
      "now 24\n",
      "again 21\n",
      "even 19\n",
      "most 17\n",
      "more 16\n",
      "also 16\n",
      "Now 13\n",
      "Not 12\n",
      "still 11\n",
      "ahead 10\n",
      "recently 10\n",
      "so 10\n",
      "down 10\n",
      "up 9\n",
      "Still 9\n",
      "back 9\n",
      "as 8\n",
      "soon 8\n",
      "enough 8\n",
      "already 8\n",
      "ever 8\n",
      "however 8\n",
      "too 7\n",
      "much 7\n",
      "More 7\n",
      "roughly 6\n",
      "originally 6\n",
      "very 6\n",
      "earlier 5\n",
      "about 5\n",
      "well 5\n",
      "only 5\n",
      "Even 5\n",
      "yet 5\n",
      "ago 5\n",
      "always 5\n",
      "nearly 4\n",
      "almost 4\n",
      "rapidly 4\n",
      "exactly 4\n",
      "lately 3\n",
      "Only 3\n",
      "there 3\n",
      "highly 3\n",
      "fully 3\n",
      "never 3\n",
      "once 3\n"
     ]
    }
   ],
   "source": [
    "# top 50 adverb tokens\n",
    "article_adverb_tokens = []\n",
    "for sentence in article_tagged_text:\n",
    "    for word, pos in sentence:\n",
    "        if pos in ['RB', 'RBR', 'RBS']: # adverb, comparative, superlative\n",
    "            if len(word) > 1:\n",
    "                article_adverb_tokens.append(word)\n",
    "                \n",
    "article_adverb_frequency = nltk.FreqDist(article_adverb_tokens)\n",
    "\n",
    "print('The top 50 adverbs within the Tesla articles are:')\n",
    "for word, freq in article_adverb_frequency.most_common(50):\n",
    "    print(word, freq)"
   ]
  },
  {
   "cell_type": "code",
   "execution_count": 22,
   "id": "08a853f2-1a37-4def-b881-4a1015e12f08",
   "metadata": {},
   "outputs": [
    {
     "name": "stdout",
     "output_type": "stream",
     "text": [
      "The average length of an adverb phrase within the Tesla articles is ~10.857 words.\n"
     ]
    }
   ],
   "source": [
    "# calculating the average length of an adverb phrase\n",
    "article_advph_phrases_total_length = sum(len(phrase) for phrase in article_advph_phrases)\n",
    "article_advph_phrases_average_length = round(article_advph_phrases_total_length/len(article_advph_phrases), 3)\n",
    "\n",
    "print('The average length of an adverb phrase within the Tesla articles is ~{} words.'.format(article_advph_phrases_average_length))"
   ]
  },
  {
   "cell_type": "markdown",
   "id": "d8825724-4563-4e36-8189-00b51cd8d0d4",
   "metadata": {},
   "source": [
    "### Nouns"
   ]
  },
  {
   "cell_type": "code",
   "execution_count": 23,
   "id": "11bee1a5-9eb8-4091-bce8-acff6a80c00c",
   "metadata": {},
   "outputs": [
    {
     "name": "stdout",
     "output_type": "stream",
     "text": [
      "First 10 noun phrases for the Tesla articles are:  ['Deal ', 'Great ', 'News ', 'Carvana ', 'Stock ', 'MarketWatch ', 'The move ', 'Hertz ', 'Global ', 'Tesla ']\n"
     ]
    }
   ],
   "source": [
    "# tagging the noun phrases \n",
    "article_nph_tags = []\n",
    "for sentence in article_tagged_text:\n",
    "    if len(sentence) > 0:\n",
    "        tree = chunk_parser_nph.parse(sentence)\n",
    "        for subtree in tree.subtrees():\n",
    "            if subtree.label() == 'NPH':\n",
    "                article_nph_tags.append(subtree)\n",
    "                \n",
    "# visualizing the noun phrases\n",
    "article_nph_phrases = []\n",
    "for phrase in article_nph_tags:\n",
    "    temp = ''\n",
    "    for w, t in phrase:\n",
    "        temp += w+ ' '    \n",
    "    article_nph_phrases.append(temp)\n",
    "    \n",
    "print('First 10 noun phrases for the Tesla articles are: ', article_nph_phrases[:10])"
   ]
  },
  {
   "cell_type": "code",
   "execution_count": 62,
   "id": "205e64c9-f329-4ab1-93f4-a61d8c6e7422",
   "metadata": {},
   "outputs": [
    {
     "name": "stdout",
     "output_type": "stream",
     "text": [
      "Top noun phrases by frequency within the Tesla articles are: \n",
      "MarketWatch  431\n",
      "Tesla  375\n",
      "the stock  152\n",
      "Stock  138\n",
      "Inc  135\n",
      "Co  129\n",
      "the company  114\n",
      "Ford  102\n",
      "Jones  94\n",
      "Industrial  93\n",
      "Average  93\n",
      "Index  93\n",
      "General  90\n",
      "DJIA  88\n",
      "NIO  87\n",
      "Motor  84\n",
      "Shares  80\n",
      "Group  72\n",
      "Musk  71\n",
      "Workhorse  69\n",
      "ADR  66\n",
      "EV  65\n",
      "P  63\n",
      "Elon  60\n",
      "Thursday  55\n",
      "China  54\n",
      "the Dow  54\n",
      "Wednesday  53\n",
      "the S  51\n",
      "Monday  50\n",
      "Tuesday  48\n",
      "Composite  48\n",
      "Friday  45\n",
      "the NASDAQ  45\n",
      "COMP  45\n",
      "SPX  43\n",
      "Bitcoin  42\n",
      "GM  41\n",
      "Dow  38\n",
      "CEO  38\n",
      "U.S.  38\n",
      "Is  32\n",
      "Cathie  31\n",
      "Wood  31\n",
      "ARK  27\n",
      "The stock  26\n",
      "Stocks  25\n",
      "February  24\n",
      "April  23\n",
      "WKHS  23\n"
     ]
    }
   ],
   "source": [
    "# examining the freuqncy of the noun phrases\n",
    "article_nph_frequency = nltk.FreqDist(article_nph_phrases)\n",
    "article_nph_frequency_words = []\n",
    "article_nph_frequency_fs = []\n",
    "\n",
    "\n",
    "print('Top noun phrases by frequency within the Tesla articles are: ')\n",
    "for word, freq in article_nph_frequency.most_common(50):\n",
    "    article_nph_frequency_words.append(word)\n",
    "    article_nph_frequency_fs.append(freq)\n",
    "    print(word, freq)"
   ]
  },
  {
   "cell_type": "code",
   "execution_count": 63,
   "id": "02a2836c-83f6-4c56-8176-063ae60b6a8c",
   "metadata": {},
   "outputs": [
    {
     "data": {
      "text/plain": [
       "Text(0.5, 1.0, 'Distribution of (Top 20) Noun Phrases, Tesla Articles')"
      ]
     },
     "execution_count": 63,
     "metadata": {},
     "output_type": "execute_result"
    },
    {
     "data": {
      "image/png": "[encoded data removed]",
      "text/plain": [
       "<Figure size 1440x360 with 1 Axes>"
      ]
     },
     "metadata": {
      "needs_background": "light"
     },
     "output_type": "display_data"
    }
   ],
   "source": [
    "fig = plt.figure(figsize = (20, 5))\n",
    "plt.plot(article_nph_frequency_words[:21], article_nph_frequency_fs[:21])\n",
    "plt.xticks(rotation = 60)\n",
    "plt.ylabel('Frequency')\n",
    "plt.xlabel('Phrase')\n",
    "plt.title('Distribution of (Top 20) Noun Phrases, Tesla Articles')"
   ]
  },
  {
   "cell_type": "code",
   "execution_count": 25,
   "id": "e7ee6091-34a0-432b-a47e-6bd9586e49a1",
   "metadata": {},
   "outputs": [
    {
     "name": "stdout",
     "output_type": "stream",
     "text": [
      "The top 50 nouns within the Tesla articles are:\n",
      "MarketWatch 463\n",
      "Tesla 395\n",
      "stock 316\n",
      "market 195\n",
      "Stock 171\n",
      "company 155\n",
      "trading 141\n",
      "Inc 135\n",
      "Co 129\n",
      "NIO 109\n",
      "day 107\n",
      "Ford 103\n",
      "Dow 99\n",
      "Motors 95\n",
      "Jones 94\n",
      "Industrial 93\n",
      "Average 93\n",
      "Index 93\n",
      "General 90\n",
      "session 89\n",
      "DJIA 88\n",
      "EV 85\n",
      "Shares 85\n",
      "Motor 84\n",
      "ADR 80\n",
      "Group 72\n",
      "investors 71\n",
      "Musk 71\n",
      "Workhorse 69\n",
      "Elon 60\n",
      "vehicles 56\n",
      "Thursday 55\n",
      "China 55\n",
      "Wednesday 53\n",
      "vehicle 53\n",
      "Monday 50\n",
      "U.S. 49\n",
      "Tuesday 48\n",
      "Composite 48\n",
      "Friday 45\n",
      "NASDAQ 45\n",
      "COMP 45\n",
      "Stocks 44\n",
      "Bitcoin 44\n",
      "SPX 43\n",
      "maker 41\n",
      "GM 41\n",
      "auto 40\n",
      "CEO 38\n",
      "stocks 38\n"
     ]
    }
   ],
   "source": [
    "# top 50 noun tokens\n",
    "article_noun_tokens = []\n",
    "for sentence in article_tagged_text:\n",
    "    for word, pos in sentence:\n",
    "        if pos in ['NN', 'NNS', 'NNP', 'NNPS']:\n",
    "            if len(word) > 1:\n",
    "                article_noun_tokens.append(word)\n",
    "                \n",
    "article_noun_frequency = nltk.FreqDist(article_noun_tokens)\n",
    "\n",
    "print('The top 50 nouns within the Tesla articles are:')\n",
    "for word, freq in article_noun_frequency.most_common(50):\n",
    "    print(word, freq)"
   ]
  },
  {
   "cell_type": "code",
   "execution_count": 26,
   "id": "fda04c69-a336-49d8-9a09-5b8d37649121",
   "metadata": {},
   "outputs": [
    {
     "name": "stdout",
     "output_type": "stream",
     "text": [
      "The average length of a noun phrase within the Tesla articles is ~7.331 words.\n"
     ]
    }
   ],
   "source": [
    "# calculating the average length of a noun phrase\n",
    "article_nph_phrases_total_length = sum(len(phrase) for phrase in article_nph_phrases)\n",
    "article_nph_phrases_average_length = round(article_nph_phrases_total_length/len(article_nph_phrases), 3)\n",
    "\n",
    "print('The average length of a noun phrase within the Tesla articles is ~{} words.'.format(article_nph_phrases_average_length))"
   ]
  },
  {
   "cell_type": "markdown",
   "id": "94375143-b9c7-4b5a-b0c2-fa65e8b98860",
   "metadata": {},
   "source": [
    "### Verbs"
   ]
  },
  {
   "cell_type": "code",
   "execution_count": 27,
   "id": "94d825c0-fb3c-4639-9a7a-25c9ea038f02",
   "metadata": {},
   "outputs": [
    {
     "name": "stdout",
     "output_type": "stream",
     "text": [
      "First 10 verb phrases for the Tesla articles are:  ['Is Great ', 'Are Holding Firm ', 'is a Tesla ', 'means the Tesla ', 'unveiled a proposal ', 'fund President ', 's ARK ', 'Get Their ', 'MarketWatch The Dow ', 'made a run ']\n"
     ]
    }
   ],
   "source": [
    "# tagging the verb phrases \n",
    "article_vph_tags = []\n",
    "for sentence in article_tagged_text:\n",
    "    if len(sentence) > 0:\n",
    "        tree = chunk_parser_vph.parse(sentence)\n",
    "        for subtree in tree.subtrees():\n",
    "            if subtree.label() == 'VPH':\n",
    "                article_vph_tags.append(subtree)\n",
    "                \n",
    "# visualizing the verb phrases\n",
    "article_vph_phrases = []\n",
    "for phrase in article_vph_tags:\n",
    "    temp = ''\n",
    "    for w, t in phrase:\n",
    "        temp += w+ ' '    \n",
    "    article_vph_phrases.append(temp)\n",
    "    \n",
    "print('First 10 verb phrases for the Tesla articles are: ', article_vph_phrases[:10])"
   ]
  },
  {
   "cell_type": "code",
   "execution_count": 60,
   "id": "3aeebf60-1d01-41bc-a77c-a395384b53a1",
   "metadata": {},
   "outputs": [
    {
     "name": "stdout",
     "output_type": "stream",
     "text": [
      "Top verb phrases by frequency within the Tesla articles are: \n",
      "was the stock  36\n",
      "was the ADR  9\n",
      "falls Monday  6\n",
      "s Elon  4\n",
      "s another sign  4\n",
      "s ARK  3\n",
      "falls Thursday  3\n",
      "MarketWatch The Dow  2\n",
      "s the Math  2\n",
      "Is Getting Into  2\n",
      "MarketWatch The electric-vehicle  2\n",
      "Give Tesla  2\n",
      "has a problem  2\n",
      "delivered a record  2\n",
      "Is Up  2\n",
      "give Tesla  2\n",
      "MarketWatch A  2\n",
      "said Tuesday  2\n",
      "involving Tesla  2\n",
      "Reported Record  2\n",
      "including Tesla  2\n",
      "joined the S  2\n",
      "means Tesla  2\n",
      "falls Wednesday  2\n",
      "falls Tuesday  2\n",
      "Dropping Again  2\n",
      "Is Great  1\n",
      "Are Holding Firm  1\n",
      "is a Tesla  1\n",
      "means the Tesla  1\n",
      "unveiled a proposal  1\n",
      "fund President  1\n",
      "Get Their  1\n",
      "made a run  1\n",
      "Dives Into  1\n",
      "Are the Winners  1\n",
      "are jumping a lot  1\n",
      "including Boeing  1\n",
      "pushed the car  1\n",
      "pushing the company  1\n",
      "reach that valuation  1\n",
      "MarketWatch The move  1\n",
      "have risen this year  1\n",
      "Hosted A  1\n",
      "Revealed Three  1\n",
      "hosted a technology  1\n",
      "showcased some things  1\n",
      "s a setback  1\n",
      "Took Off  1\n",
      "Bought Moderna  1\n"
     ]
    }
   ],
   "source": [
    "# examining the freuqncy of the verb phrases\n",
    "article_vph_frequency = nltk.FreqDist(article_vph_phrases)\n",
    "article_vph_frequency_words = []\n",
    "article_vph_frequency_fs = []\n",
    "\n",
    "print('Top verb phrases by frequency within the Tesla articles are: ')\n",
    "for word, freq in article_vph_frequency.most_common(50):\n",
    "    article_vph_frequency_words.append(word)\n",
    "    article_vph_frequency_fs.append(freq)\n",
    "    print(word, freq)"
   ]
  },
  {
   "cell_type": "code",
   "execution_count": 61,
   "id": "3dd5e583-d92e-4185-a4f9-affd4286c9df",
   "metadata": {},
   "outputs": [
    {
     "data": {
      "text/plain": [
       "Text(0.5, 1.0, 'Distribution of (Top 20) Verb Phrases, Tesla Articles')"
      ]
     },
     "execution_count": 61,
     "metadata": {},
     "output_type": "execute_result"
    },
    {
     "data": {
      "image/png": "[encoded data removed]",
      "text/plain": [
       "<Figure size 1440x360 with 1 Axes>"
      ]
     },
     "metadata": {
      "needs_background": "light"
     },
     "output_type": "display_data"
    }
   ],
   "source": [
    "fig = plt.figure(figsize = (20, 5))\n",
    "plt.plot(article_vph_frequency_words[:21], article_vph_frequency_fs[:21])\n",
    "plt.xticks(rotation = 60)\n",
    "plt.ylabel('Frequency')\n",
    "plt.xlabel('Phrase')\n",
    "plt.title('Distribution of (Top 20) Verb Phrases, Tesla Articles')"
   ]
  },
  {
   "cell_type": "code",
   "execution_count": 29,
   "id": "607fb937-3d9d-437a-9562-26cc46d98cd7",
   "metadata": {},
   "outputs": [
    {
     "name": "stdout",
     "output_type": "stream",
     "text": [
      "The top 50 verbs within the Tesla articles are:\n",
      "is 185\n",
      "be 174\n",
      "rising 102\n",
      "are 95\n",
      "Is 88\n",
      "closed 88\n",
      "proved 88\n",
      "falling 84\n",
      "was 74\n",
      "has 72\n",
      "achieved 49\n",
      "reached 41\n",
      "outperforms 40\n",
      "MarketWatch 39\n",
      "have 36\n",
      "Are 31\n",
      "were 25\n",
      "snapped 24\n",
      "going 20\n",
      "rallied 17\n",
      "been 16\n",
      "getting 16\n",
      "had 15\n",
      "said 15\n",
      "reported 14\n",
      "rise 14\n",
      "rose 13\n",
      "hit 13\n",
      "falls 13\n",
      "make 12\n",
      "compared 12\n",
      "inched 12\n",
      "get 11\n",
      "advanced 11\n",
      "shed 11\n",
      "isn 10\n",
      "sold 10\n",
      "Have 10\n",
      "coming 10\n",
      "Be 10\n",
      "know 10\n",
      "do 10\n",
      "don 10\n",
      "slid 10\n",
      "means 9\n",
      "made 9\n",
      "wants 9\n",
      "including 9\n",
      "go 9\n",
      "appeared 9\n"
     ]
    }
   ],
   "source": [
    "# top 50 verb tokens\n",
    "article_verb_tokens = []\n",
    "for sentence in article_tagged_text:\n",
    "    for word, pos in sentence:\n",
    "        if pos in ['VB', 'VBD', 'VBG', 'VBN', 'VBP', 'VBZ']:\n",
    "            if len(word) > 1:\n",
    "                article_verb_tokens.append(word)\n",
    "                \n",
    "article_verb_frequency = nltk.FreqDist(article_verb_tokens)\n",
    "\n",
    "print('The top 50 verbs within the Tesla articles are:')\n",
    "for word, freq in article_verb_frequency.most_common(50):\n",
    "    print(word, freq)"
   ]
  },
  {
   "cell_type": "code",
   "execution_count": 30,
   "id": "69206480-1a7a-44a5-9f1c-4b6c5dd4a2c9",
   "metadata": {},
   "outputs": [
    {
     "name": "stdout",
     "output_type": "stream",
     "text": [
      "The average length of a verb phrase within the Tesla articles is ~15.29 words.\n"
     ]
    }
   ],
   "source": [
    "# calculating the average length of a verb phrase\n",
    "article_vph_phrases_total_length = sum(len(phrase) for phrase in article_vph_phrases)\n",
    "article_vph_phrases_average_length = round(article_vph_phrases_total_length/len(article_vph_phrases), 3)\n",
    "\n",
    "print('The average length of a verb phrase within the Tesla articles is ~{} words.'.format(article_vph_phrases_average_length))"
   ]
  },
  {
   "cell_type": "markdown",
   "id": "d71255f0-9e80-4d0c-afa1-f54ba70527e6",
   "metadata": {},
   "source": [
    "## Hamlet"
   ]
  },
  {
   "cell_type": "code",
   "execution_count": 31,
   "id": "0120838f-e47a-475b-8d58-93e4cc718e44",
   "metadata": {},
   "outputs": [],
   "source": [
    "hamlet_text_textsplit = nltk.sent_tokenize(hamlet_text)\n",
    "number_of_hamlet_sentences = len(hamlet_text_textsplit)"
   ]
  },
  {
   "cell_type": "code",
   "execution_count": 32,
   "id": "ea33136f-0659-4eba-ac15-444e6dbcfb63",
   "metadata": {},
   "outputs": [],
   "source": [
    "hamlet_text_tokenized = [clean_text_data(sentence)['bigrams']['tokens'] for sentence in hamlet_text_textsplit]\n",
    "hamlet_cleaned_text_tokenized = [w for w in hamlet_text_tokenized if not w in all_stopwords]"
   ]
  },
  {
   "cell_type": "code",
   "execution_count": 33,
   "id": "f5abd869-2b8d-4f3d-937f-106407e37659",
   "metadata": {},
   "outputs": [],
   "source": [
    "hamlet_tagged_text = [nltk.pos_tag(token) for token in hamlet_cleaned_text_tokenized]"
   ]
  },
  {
   "cell_type": "code",
   "execution_count": 34,
   "id": "feef942f-ed2b-48f4-abbf-0ccf283291ed",
   "metadata": {},
   "outputs": [
    {
     "name": "stdout",
     "output_type": "stream",
     "text": [
      "[[('[', 'IN'), ('The', 'DT'), ('Tragedie', 'NNP'), ('of', 'IN'), ('Hamlet', 'NNP'), ('by', 'IN'), ('William', 'NNP'), ('Shakespeare', 'NNP'), ('1599', 'CD'), (']', 'NNP'), ('Actus', 'NNP'), ('Primus', 'NNP'), ('.', '.')], [('Scoena', 'NNP'), ('Prima', 'NNP'), ('.', '.')], [('Enter', 'NNP'), ('Barnardo', 'NNP'), ('and', 'CC'), ('Francisco', 'NNP'), ('two', 'CD'), ('Centinels', 'NNP'), ('.', '.')], [('Barnardo', 'NNP'), ('.', '.')], [('Who', 'WP'), (\"'\", \"''\"), ('s', 'NN'), ('there', 'RB'), ('?', '.')]]\n"
     ]
    }
   ],
   "source": [
    "print(hamlet_tagged_text[:5])"
   ]
  },
  {
   "cell_type": "markdown",
   "id": "d4d84555-b10f-4c3e-96ef-2d6f1c25e23f",
   "metadata": {},
   "source": [
    "### Adjectives"
   ]
  },
  {
   "cell_type": "code",
   "execution_count": 35,
   "id": "2be35ca4-ef88-4515-bd54-57ec111f0c13",
   "metadata": {},
   "outputs": [
    {
     "name": "stdout",
     "output_type": "stream",
     "text": [
      "First 10 adjective phrases for Hamlet are:  []\n"
     ]
    }
   ],
   "source": [
    "hamlet_adjph_tags = []\n",
    "for sentence in hamlet_tagged_text:\n",
    "    if len(sentence) > 0:\n",
    "        tree = chunk_parser_adj.parse(sentence)\n",
    "        for subtree in tree.subtrees():\n",
    "            if subtree.label() == 'ADJHP':\n",
    "                hamlet_adjph_tags.append(subtree)\n",
    "                \n",
    "# visualizing the adjective phrases\n",
    "hamlet_adjph_phrases = []\n",
    "for phrase in hamlet_adjph_tags:\n",
    "    temp = ''\n",
    "    for w, t in phrase:\n",
    "        temp += w+ ' '    \n",
    "    hamlet_adjph_phrases.append(temp)\n",
    "    \n",
    "print('First 10 adjective phrases for Hamlet are: ', hamlet_adjph_phrases[:10])"
   ]
  },
  {
   "cell_type": "code",
   "execution_count": 36,
   "id": "278fc3a2-fa27-4a25-83f0-4a4e4a6646c9",
   "metadata": {},
   "outputs": [
    {
     "name": "stdout",
     "output_type": "stream",
     "text": [
      "Top adjective phrases by frequency within Hamlet are: \n"
     ]
    }
   ],
   "source": [
    "# examining the freuqncy of the adjective phrases\n",
    "hamlet_adjph_frequency = nltk.FreqDist(hamlet_adjph_phrases)\n",
    "\n",
    "print('Top adjective phrases by frequency within Hamlet are: ')\n",
    "for word, freq in hamlet_adjph_frequency.most_common(50):\n",
    "    print(word, freq)"
   ]
  },
  {
   "cell_type": "code",
   "execution_count": 37,
   "id": "e3deae4d-aeb4-4593-82a6-d043834ebb11",
   "metadata": {},
   "outputs": [
    {
     "name": "stdout",
     "output_type": "stream",
     "text": [
      "The top 50 adjectives within Hamlet are:\n",
      "good 76\n",
      "thy 55\n",
      "more 38\n",
      "such 34\n",
      "most 30\n",
      "much 27\n",
      "dead 25\n",
      "Good 22\n",
      "true 21\n",
      "thou 20\n",
      "great 19\n",
      "owne 17\n",
      "old 16\n",
      "other 15\n",
      "mine 15\n",
      "many 15\n",
      "sweet 14\n",
      "same 13\n",
      "Most 12\n",
      "deere 12\n",
      "Noble 12\n",
      "mad 12\n",
      "Other 12\n",
      "thee 11\n",
      "last 11\n",
      "farre 10\n",
      "first 10\n",
      "little 10\n",
      "second 10\n",
      "strange 9\n",
      "young 9\n",
      "full 9\n",
      "late 9\n",
      "excellent 9\n",
      "free 9\n",
      "selfe 8\n",
      "welcome 8\n",
      "seene 8\n",
      "haue 8\n",
      "whole 8\n",
      "better 8\n",
      "common 8\n",
      "best 8\n",
      "vs 8\n",
      "againe 7\n",
      "oft 7\n",
      "long 7\n",
      "fine 7\n",
      "bad 7\n",
      "hot 6\n"
     ]
    }
   ],
   "source": [
    "# top 50 adjective tokens\n",
    "hamlet_adjective_tokens = []\n",
    "for sentence in hamlet_tagged_text:\n",
    "    for word, pos in sentence:\n",
    "        if pos in ['JJ', 'JJR', 'JJS']: # adjective, comparative, superlative\n",
    "            if len(word) > 1:\n",
    "                hamlet_adjective_tokens.append(word)\n",
    "                \n",
    "hamlet_adjective_frequency = nltk.FreqDist(hamlet_adjective_tokens)\n",
    "\n",
    "print('The top 50 adjectives within Hamlet are:')\n",
    "for word, freq in hamlet_adjective_frequency.most_common(50):\n",
    "    print(word, freq)"
   ]
  },
  {
   "cell_type": "code",
   "execution_count": 38,
   "id": "b9cf2598-2aa2-4618-8e99-715dfb4bb005",
   "metadata": {},
   "outputs": [],
   "source": [
    "# # calculating the average length of an adjective phrase\n",
    "# hamlet_adjph_phrases_total_length = sum(len(phrase) for phrase in hamlet_adjph_phrases)\n",
    "# hamlet_adjph_phrases_average_length = round(hamlet_adjph_phrases_total_length/len(hamlet_adjph_phrases), 3)\n",
    "\n",
    "# print('The average length of an adjective phrase within Hamlet is ~{} words.'.format(hamlet_adjph_phrases_average_length))"
   ]
  },
  {
   "cell_type": "markdown",
   "id": "98db8420-234a-4332-89f3-66d69bb84640",
   "metadata": {},
   "source": [
    "### Adverbs"
   ]
  },
  {
   "cell_type": "code",
   "execution_count": 39,
   "id": "bfe21f7e-1297-4f20-9922-2a6ec2cc0c73",
   "metadata": {},
   "outputs": [
    {
     "name": "stdout",
     "output_type": "stream",
     "text": [
      "First 10 adverb phrases for Hamlet are:  ['spoke too ', 'Thus twice before ', 'doth well ', 'Thus much ', 'Not so ', 'not alone ', 'too too ', 'not so much ', 'too roughly ', 'not well ']\n"
     ]
    }
   ],
   "source": [
    "# tagging the adverb phrases \n",
    "hamlet_advph_tags = []\n",
    "for sentence in hamlet_tagged_text:\n",
    "    if len(sentence) > 0:\n",
    "        tree = chunk_parser_advph.parse(sentence)\n",
    "        for subtree in tree.subtrees():\n",
    "            if subtree.label() == 'ADVPH':\n",
    "                hamlet_advph_tags.append(subtree)\n",
    "                \n",
    "# visualizing the adverb phrases\n",
    "hamlet_advph_phrases = []\n",
    "for phrase in hamlet_advph_tags:\n",
    "    temp = ''\n",
    "    for w, t in phrase:\n",
    "        temp += w+ ' '    \n",
    "    hamlet_advph_phrases.append(temp)\n",
    "    \n",
    "print('First 10 adverb phrases for Hamlet are: ', hamlet_advph_phrases[:10])"
   ]
  },
  {
   "cell_type": "code",
   "execution_count": 58,
   "id": "4e680a6c-587a-4631-a564-0a6430776380",
   "metadata": {},
   "outputs": [
    {
     "name": "stdout",
     "output_type": "stream",
     "text": [
      "Top adverb phrases by frequency within Hamlet are: \n",
      "not well  4\n",
      "not so  4\n",
      "not alone  2\n",
      "thee well  2\n",
      "very well  2\n",
      "So much  2\n",
      "too much  2\n",
      "so well  2\n",
      "spoke too  1\n",
      "Thus twice before  1\n",
      "doth well  1\n",
      "Thus much  1\n",
      "Not so  1\n",
      "too too  1\n",
      "not so much  1\n",
      "too roughly  1\n",
      "else neere  1\n",
      "too long  1\n",
      "not then  1\n",
      "so cleerely  1\n",
      "so much  1\n",
      "very cold  1\n",
      "natiue heere  1\n",
      "So horridly  1\n",
      "So art  1\n",
      "thou poore  1\n",
      "so helpe  1\n",
      "so ere  1\n",
      "so poore  1\n",
      "so ranke  1\n",
      "so quaintly  1\n",
      "beene so  1\n",
      "vs well  1\n",
      "very neere  1\n",
      "euen poore  1\n",
      "not craft enough  1\n",
      "so heauenly  1\n",
      "no longer then  1\n",
      "not better  1\n",
      "not yet  1\n",
      "so indeed  1\n",
      "Very well  1\n",
      "amaze indeed  1\n",
      "so bestow  1\n",
      "right well  1\n",
      "well enough  1\n",
      "quickly too  1\n",
      "not too  1\n",
      "so abhominably  1\n",
      "So long  1\n"
     ]
    }
   ],
   "source": [
    "# examining the freuqncy of the adverb phrases\n",
    "hamlet_advph_frequency = nltk.FreqDist(hamlet_advph_phrases)\n",
    "hamlet_advph_frequency_words = []\n",
    "hamlet_advph_frequency_fs = []\n",
    "\n",
    "print('Top adverb phrases by frequency within Hamlet are: ')\n",
    "for word, freq in hamlet_advph_frequency.most_common(50):\n",
    "    hamlet_advph_frequency_words.append(word)\n",
    "    hamlet_advph_frequency_fs.append(freq)\n",
    "    print(word, freq)"
   ]
  },
  {
   "cell_type": "code",
   "execution_count": 59,
   "id": "443a1e0d-d157-430a-b804-ec119549af68",
   "metadata": {},
   "outputs": [
    {
     "data": {
      "text/plain": [
       "Text(0.5, 1.0, 'Distribution of (Top 20) Adverb Phrases, Hamlet')"
      ]
     },
     "execution_count": 59,
     "metadata": {},
     "output_type": "execute_result"
    },
    {
     "data": {
      "image/png": "[encoded data removed]",
      "text/plain": [
       "<Figure size 1440x360 with 1 Axes>"
      ]
     },
     "metadata": {
      "needs_background": "light"
     },
     "output_type": "display_data"
    }
   ],
   "source": [
    "fig = plt.figure(figsize = (20, 5))\n",
    "plt.plot(hamlet_advph_frequency_words[:21], hamlet_advph_frequency_fs[:21])\n",
    "plt.xticks(rotation = 60)\n",
    "plt.ylabel('Frequency')\n",
    "plt.xlabel('Phrase')\n",
    "plt.title('Distribution of (Top 20) Adverb Phrases, Hamlet')"
   ]
  },
  {
   "cell_type": "code",
   "execution_count": 41,
   "id": "363557b9-34e7-4a24-8315-c631485bb3e7",
   "metadata": {},
   "outputs": [
    {
     "name": "stdout",
     "output_type": "stream",
     "text": [
      "The top 50 adverbs within Hamlet are:\n",
      "not 286\n",
      "so 139\n",
      "then 75\n",
      "now 68\n",
      "too 55\n",
      "well 53\n",
      "more 45\n",
      "very 44\n",
      "most 35\n",
      "So 33\n",
      "Then 33\n",
      "thus 33\n",
      "heere 25\n",
      "Now 24\n",
      "yet 24\n",
      "there 20\n",
      "away 20\n",
      "indeed 18\n",
      "as 18\n",
      "once 17\n",
      "Not 14\n",
      "much 14\n",
      "still 14\n",
      "else 13\n",
      "Well 9\n",
      "alone 9\n",
      "Indeed 9\n",
      "long 7\n",
      "further 7\n",
      "together 7\n",
      "therefore 7\n",
      "neuer 7\n",
      "better 7\n",
      "Thus 6\n",
      "ere 6\n",
      "enough 6\n",
      "neere 6\n",
      "here 6\n",
      "almost 6\n",
      "first 6\n",
      "freely 5\n",
      "poore 5\n",
      "thee 5\n",
      "presently 5\n",
      "twice 4\n",
      "sometimes 4\n",
      "Therefore 4\n",
      "truly 4\n",
      "longer 4\n",
      "Very 4\n"
     ]
    }
   ],
   "source": [
    "# top 50 adverb tokens\n",
    "hamlet_adverb_tokens = []\n",
    "for sentence in hamlet_tagged_text:\n",
    "    for word, pos in sentence:\n",
    "        if pos in ['RB', 'RBR', 'RBS']: # adverb, comparative, superlative\n",
    "            if len(word) > 1:\n",
    "                hamlet_adverb_tokens.append(word)\n",
    "                \n",
    "hamlet_adverb_frequency = nltk.FreqDist(hamlet_adverb_tokens)\n",
    "\n",
    "print('The top 50 adverbs within Hamlet are:')\n",
    "for word, freq in hamlet_adverb_frequency.most_common(50):\n",
    "    print(word, freq)"
   ]
  },
  {
   "cell_type": "code",
   "execution_count": 42,
   "id": "01e75739-aebd-494f-89b5-14ff878c0c8b",
   "metadata": {},
   "outputs": [
    {
     "name": "stdout",
     "output_type": "stream",
     "text": [
      "The average length of an adverb phrase within Hamlet is ~10.419 words.\n"
     ]
    }
   ],
   "source": [
    "# calculating the average length of an adverb phrase\n",
    "hamlet_advph_phrases_total_length = sum(len(phrase) for phrase in hamlet_advph_phrases)\n",
    "hamlet_advph_phrases_average_length = round(hamlet_advph_phrases_total_length/len(hamlet_advph_phrases), 3)\n",
    "\n",
    "print('The average length of an adverb phrase within Hamlet is ~{} words.'.format(hamlet_advph_phrases_average_length))"
   ]
  },
  {
   "cell_type": "markdown",
   "id": "7ae94dd8-2263-467e-8586-3e6741171588",
   "metadata": {},
   "source": [
    "### Nouns"
   ]
  },
  {
   "cell_type": "code",
   "execution_count": 43,
   "id": "44890b86-9997-4a6f-a1c2-393e04a5cc19",
   "metadata": {},
   "outputs": [
    {
     "name": "stdout",
     "output_type": "stream",
     "text": [
      "First 10 adverb phrases for Hamlet are:  ['The Tragedie ', 'Hamlet ', 'William ', 'Shakespeare ', '] ', 'Actus ', 'Primus ', 'Scoena ', 'Prima ', 'Enter ']\n"
     ]
    }
   ],
   "source": [
    "# tagging the noun phrases \n",
    "hamlet_nph_tags = []\n",
    "for sentence in hamlet_tagged_text:\n",
    "    if len(sentence) > 0:\n",
    "        tree = chunk_parser_nph.parse(sentence)\n",
    "        for subtree in tree.subtrees():\n",
    "            if subtree.label() == 'NPH':\n",
    "                hamlet_nph_tags.append(subtree)\n",
    "                \n",
    "# visualizing the adverb phrases\n",
    "hamlet_nph_phrases = []\n",
    "for phrase in hamlet_nph_tags:\n",
    "    temp = ''\n",
    "    for w, t in phrase:\n",
    "        temp += w+ ' '    \n",
    "    hamlet_nph_phrases.append(temp)\n",
    "    \n",
    "print('First 10 adverb phrases for Hamlet are: ', hamlet_nph_phrases[:10])"
   ]
  },
  {
   "cell_type": "code",
   "execution_count": 56,
   "id": "00ebddfc-ff0e-4a7f-abd0-282576ec6d2d",
   "metadata": {},
   "outputs": [
    {
     "name": "stdout",
     "output_type": "stream",
     "text": [
      "Top noun phrases by frequency Hamlet are: \n",
      "Ham  328\n",
      "Lord  203\n",
      "King  118\n",
      "Hamlet  97\n",
      "Hor  94\n",
      "Enter  66\n",
      "Qu  61\n",
      "Ile  58\n",
      "Laer  58\n",
      "Pol  48\n",
      "Sir  44\n",
      "Rosin  42\n",
      "Horatio  40\n",
      "Polon  37\n",
      "Heauen  34\n",
      "Father  34\n",
      "the King  33\n",
      "O  32\n",
      "Mar  31\n",
      "Ophe  31\n",
      "Tis  29\n",
      "Ophelia  28\n",
      "Mother  28\n",
      "Clo  28\n",
      "Come  26\n",
      "Nay  25\n",
      "God  23\n",
      "Exeunt  23\n",
      "Queene  23\n",
      "Polonius  20\n",
      "Guild  20\n",
      "England  20\n",
      "Giue  19\n",
      "Denmarke  19\n",
      "Which  18\n",
      "Loue  18\n",
      "Osr  18\n",
      "Haue  17\n",
      "Guildensterne  17\n",
      "Sonne  16\n",
      "Nature  15\n",
      "A  15\n",
      "Be  14\n",
      "Kin  14\n",
      "Thou  13\n",
      "Ghost  13\n",
      "Gertrude  13\n",
      "Laertes  13\n",
      "Reynol  13\n",
      "the matter  13\n"
     ]
    }
   ],
   "source": [
    "# examining the freuqncy of the noun phrases\n",
    "hamlet_nph_frequency = nltk.FreqDist(hamlet_nph_phrases)\n",
    "hamlet_nph_frequency_words = []\n",
    "hamlet_nph_frequency_fs = []\n",
    "\n",
    "print('Top noun phrases by frequency Hamlet are: ')\n",
    "for word, freq in hamlet_nph_frequency.most_common(50):\n",
    "    hamlet_nph_frequency_words.append(word)\n",
    "    hamlet_nph_frequency_fs.append(freq)\n",
    "    print(word, freq)"
   ]
  },
  {
   "cell_type": "code",
   "execution_count": 57,
   "id": "ce5c4561-3ea1-4f64-b505-5eb233448524",
   "metadata": {},
   "outputs": [
    {
     "data": {
      "text/plain": [
       "Text(0.5, 1.0, 'Distribution of (Top 20) Noun Phrases, Hamlet')"
      ]
     },
     "execution_count": 57,
     "metadata": {},
     "output_type": "execute_result"
    },
    {
     "data": {
      "image/png": "[encoded data removed]",
      "text/plain": [
       "<Figure size 1440x360 with 1 Axes>"
      ]
     },
     "metadata": {
      "needs_background": "light"
     },
     "output_type": "display_data"
    }
   ],
   "source": [
    "fig = plt.figure(figsize = (20, 5))\n",
    "plt.plot(hamlet_nph_frequency_words[:21], hamlet_nph_frequency_fs[:21])\n",
    "plt.xticks(rotation = 60)\n",
    "plt.ylabel('Frequency')\n",
    "plt.xlabel('Phrase')\n",
    "plt.title('Distribution of (Top 20) Noun Phrases, Hamlet')"
   ]
  },
  {
   "cell_type": "code",
   "execution_count": 45,
   "id": "f8e547d1-2c48-4a48-9d8d-dba2cb1022fb",
   "metadata": {},
   "outputs": [
    {
     "name": "stdout",
     "output_type": "stream",
     "text": [
      "The top 50 nouns within Hamlet are:\n",
      "Ham 333\n",
      "Lord 211\n",
      "King 170\n",
      "Hamlet 98\n",
      "Hor 95\n",
      "Enter 80\n",
      "Qu 62\n",
      "Laer 59\n",
      "Ile 58\n",
      "Ophe 55\n",
      "Pol 48\n",
      "Sir 47\n",
      "thou 45\n",
      "Father 45\n",
      "vs 43\n",
      "Rosin 43\n",
      "th 42\n",
      "man 42\n",
      "Horatio 40\n",
      "Queene 39\n",
      "Polon 38\n",
      "time 37\n",
      "Mother 37\n",
      "thee 36\n",
      "Heauen 36\n",
      "death 36\n",
      "selfe 35\n",
      "Mar 31\n",
      "Tis 30\n",
      "life 30\n",
      "night 29\n",
      "tis 29\n",
      "loue 29\n",
      "Clo 29\n",
      "Laertes 28\n",
      "Ophelia 28\n",
      "Come 26\n",
      "Nay 25\n",
      "thing 25\n",
      "God 25\n",
      "hath 25\n",
      "Play 25\n",
      "heart 24\n",
      "againe 24\n",
      "vp 24\n",
      "matter 24\n",
      "nothing 23\n",
      "Exeunt 23\n",
      "world 22\n",
      "Ghost 21\n"
     ]
    }
   ],
   "source": [
    "# top 50 noun tokens\n",
    "hamlet_noun_tokens = []\n",
    "for sentence in hamlet_tagged_text:\n",
    "    for word, pos in sentence:\n",
    "        if pos in ['NN', 'NNS', 'NNP', 'NNPS']:\n",
    "            if len(word) > 1:\n",
    "                hamlet_noun_tokens.append(word)\n",
    "                \n",
    "hamlet_noun_frequency = nltk.FreqDist(hamlet_noun_tokens)\n",
    "\n",
    "print('The top 50 nouns within Hamlet are:')\n",
    "for word, freq in hamlet_noun_frequency.most_common(50):\n",
    "    print(word, freq)"
   ]
  },
  {
   "cell_type": "code",
   "execution_count": 46,
   "id": "6ccba9d9-e60d-4c09-bab0-bd8921dadd7f",
   "metadata": {},
   "outputs": [
    {
     "name": "stdout",
     "output_type": "stream",
     "text": [
      "The average length of a noun phrase within Hamlet is ~7.225 words.\n"
     ]
    }
   ],
   "source": [
    "# calculating the average length of a noun phrase\n",
    "hamlet_nph_phrases_total_length = sum(len(phrase) for phrase in hamlet_nph_phrases)\n",
    "hamlet_nph_phrases_average_length = round(hamlet_nph_phrases_total_length/len(hamlet_nph_phrases), 3)\n",
    "\n",
    "print('The average length of a noun phrase within Hamlet is ~{} words.'.format(hamlet_nph_phrases_average_length))"
   ]
  },
  {
   "cell_type": "code",
   "execution_count": 47,
   "id": "1cb45a36-bcb1-4760-993c-c9f375c1d724",
   "metadata": {},
   "outputs": [
    {
     "name": "stdout",
     "output_type": "stream",
     "text": [
      "['The Tragedie ', 'Hamlet ', 'William ', 'Shakespeare ', '] ', 'Actus ', 'Primus ', 'Scoena ', 'Prima ', 'Enter ']\n"
     ]
    }
   ],
   "source": [
    "print(hamlet_nph_phrases[:10])"
   ]
  },
  {
   "cell_type": "code",
   "execution_count": 48,
   "id": "7f549c13-e650-40f5-83dd-79da0f1f9667",
   "metadata": {},
   "outputs": [],
   "source": [
    "# # calculating the portion of noun phrases within the corpus\n",
    "# number_of_hamlet_nph_phrases = len(hamlet_nph_phrases)\n",
    "# hamlet_nph_phrases_proporation = round(number_of_hamlet_nph_phrases * 100/number_of_hamlet_sentences, 3)\n",
    "\n",
    "# print('Noun phrases account for ~{}% of sentences within Hamlet.'.format(hamlet_nph_phrases_proporation))"
   ]
  },
  {
   "cell_type": "markdown",
   "id": "42f186b9-52c5-4765-93b1-7795fd3da884",
   "metadata": {},
   "source": [
    "### Verbs"
   ]
  },
  {
   "cell_type": "code",
   "execution_count": 49,
   "id": "ae57366e-631d-4947-bc25-90203d4a4263",
   "metadata": {},
   "outputs": [
    {
     "name": "stdout",
     "output_type": "stream",
     "text": [
      "First 10 verb phrases for Hamlet are:  ['liue the King ', 'bed Francisco ', 'do meet Horatio ', 'is Horatio ', 'watch the minutes ', 'heare Barnardo ', 'art a Scholler ', 'buried Denmarke ', 'is offended Barn ', 'answer Barn ']\n"
     ]
    }
   ],
   "source": [
    "# tagging the verb phrases \n",
    "hamlet_vph_tags = []\n",
    "for sentence in hamlet_tagged_text:\n",
    "    if len(sentence) > 0:\n",
    "        tree = chunk_parser_vph.parse(sentence)\n",
    "        for subtree in tree.subtrees():\n",
    "            if subtree.label() == 'VPH':\n",
    "                hamlet_vph_tags.append(subtree)\n",
    "                \n",
    "# visualizing the verb phrases\n",
    "hamlet_vph_phrases = []\n",
    "for phrase in hamlet_vph_tags:\n",
    "    temp = ''\n",
    "    for w, t in phrase:\n",
    "        temp += w+ ' '    \n",
    "    hamlet_vph_phrases.append(temp)\n",
    "    \n",
    "print('First 10 verb phrases for Hamlet are: ', hamlet_vph_phrases[:10])"
   ]
  },
  {
   "cell_type": "code",
   "execution_count": 50,
   "id": "358cb6e2-e357-415c-9dfc-b5e1e7df702d",
   "metadata": {},
   "outputs": [
    {
     "name": "stdout",
     "output_type": "stream",
     "text": [
      "Top verb phrases by frequency Hamlet are: \n",
      "is the matter  3\n",
      "s the newes  2\n",
      "thy Mother  2\n",
      "stand an end  2\n",
      "s the matter  2\n",
      "vse no Art  2\n",
      "haue a daughter  2\n",
      "speake Guil  2\n",
      "haue Newes  2\n",
      "cannot Ham  2\n",
      "kill a King  2\n",
      "is the poyson  2\n",
      "be King  2\n",
      "go Gertrude  2\n",
      "is no matter  2\n",
      "liue the King  1\n",
      "bed Francisco  1\n",
      "do meet Horatio  1\n",
      "is Horatio  1\n",
      "watch the minutes  1\n",
      "heare Barnardo  1\n",
      "art a Scholler  1\n",
      "buried Denmarke  1\n",
      "is offended Barn  1\n",
      "answer Barn  1\n",
      "toyles the subiect  1\n",
      "diuide the Sunday  1\n",
      "make the Night  1\n",
      "slay this Fortinbras  1\n",
      "hath a stomacke  1\n",
      "hast any sound  1\n",
      "thy Countries  1\n",
      "stand Barn  1\n",
      "is the Trumpet  1\n",
      "erring Spirit  1\n",
      "comes Wherein  1\n",
      "singeth all night  1\n",
      "is the time  1\n",
      "re the dew  1\n",
      "weighing Delight  1\n",
      "Holding a weake  1\n",
      "Importing the surrender  1\n",
      "is the Throne  1\n",
      "thy Father  1\n",
      "sayes Pollonius  1\n",
      "go King  1\n",
      "kinde King  1\n",
      "lost a Father  1\n",
      "is a course  1\n",
      "tis a fault  1\n"
     ]
    }
   ],
   "source": [
    "# examining the freuqncy of the verb phrases\n",
    "hamlet_vph_frequency = nltk.FreqDist(hamlet_vph_phrases)\n",
    "hamlet_vph_frequency_words = []\n",
    "hamlet_vph_frequency_fs = []\n",
    "\n",
    "print('Top verb phrases by frequency Hamlet are: ')\n",
    "for word, freq in hamlet_vph_frequency.most_common(50):\n",
    "    hamlet_vph_frequency_words.append(word)\n",
    "    hamlet_vph_frequency_fs.append(freq)\n",
    "    print(word, freq)"
   ]
  },
  {
   "cell_type": "code",
   "execution_count": 51,
   "id": "b4f5017f-2788-4d9a-823a-24ccfb19eac9",
   "metadata": {},
   "outputs": [
    {
     "data": {
      "text/plain": [
       "Text(0.5, 1.0, 'Distribution of (Top 20) Verb Phrases, Hamlet')"
      ]
     },
     "execution_count": 51,
     "metadata": {},
     "output_type": "execute_result"
    },
    {
     "data": {
      "image/png": "[encoded data removed]",
      "text/plain": [
       "<Figure size 1440x360 with 1 Axes>"
      ]
     },
     "metadata": {
      "needs_background": "light"
     },
     "output_type": "display_data"
    }
   ],
   "source": [
    "fig = plt.figure(figsize = (20, 5))\n",
    "plt.plot(hamlet_vph_frequency_words[:21], hamlet_vph_frequency_fs[:21])\n",
    "plt.xticks(rotation = 60)\n",
    "plt.ylabel('Frequency')\n",
    "plt.xlabel('Phrase')\n",
    "plt.title('Distribution of (Top 20) Verb Phrases, Hamlet')"
   ]
  },
  {
   "cell_type": "code",
   "execution_count": 52,
   "id": "bb059d79-db82-4448-8cdd-907bc7f66a88",
   "metadata": {},
   "outputs": [
    {
     "name": "stdout",
     "output_type": "stream",
     "text": [
      "The top 50 verb within Hamlet are:\n",
      "is 304\n",
      "be 175\n",
      "haue 129\n",
      "are 113\n",
      "do 82\n",
      "was 77\n",
      "know 68\n",
      "come 62\n",
      "let 61\n",
      "did 52\n",
      "am 50\n",
      "make 44\n",
      "see 44\n",
      "say 43\n",
      "Let 40\n",
      "had 38\n",
      "tell 38\n",
      "speake 37\n",
      "go 35\n",
      "doe 34\n",
      "thinke 30\n",
      "made 29\n",
      "giue 27\n",
      "were 24\n",
      "comes 22\n",
      "Is 21\n",
      "done 21\n",
      "cannot 21\n",
      "take 20\n",
      "hold 20\n",
      "set 20\n",
      "put 20\n",
      "hath 19\n",
      "selfe 19\n",
      "heare 18\n",
      "thou 17\n",
      "pray 17\n",
      "does 17\n",
      "call 17\n",
      "makes 14\n",
      "gone 13\n",
      "thy 13\n",
      "Do 13\n",
      "saw 13\n",
      "said 13\n",
      "sent 13\n",
      "goes 12\n",
      "finde 12\n",
      "play 12\n",
      "bee 12\n"
     ]
    }
   ],
   "source": [
    "# top 50 verb tokens\n",
    "hamlet_verb_tokens = []\n",
    "for sentence in hamlet_tagged_text:\n",
    "    for word, pos in sentence:\n",
    "        if pos in ['VB', 'VBD', 'VBG', 'VBN', 'VBP', 'VBZ']:\n",
    "            if len(word) > 1:\n",
    "                hamlet_verb_tokens.append(word)\n",
    "                \n",
    "hamlet_verb_frequency = nltk.FreqDist(hamlet_verb_tokens)\n",
    "\n",
    "print('The top 50 verb within Hamlet are:')\n",
    "for word, freq in hamlet_verb_frequency.most_common(50):\n",
    "    print(word, freq)"
   ]
  },
  {
   "cell_type": "code",
   "execution_count": 53,
   "id": "feeeeb00-1b04-4d0b-bd18-84c6bee5e8f4",
   "metadata": {},
   "outputs": [
    {
     "name": "stdout",
     "output_type": "stream",
     "text": [
      "The average length of a verb phrase within Hamlet is ~14.599 words.\n"
     ]
    }
   ],
   "source": [
    "# calculating the average length of a verb phrase\n",
    "hamlet_vph_phrases_total_length = sum(len(phrase) for phrase in hamlet_vph_phrases)\n",
    "hamlet_vph_phrases_average_length = round(hamlet_vph_phrases_total_length/len(hamlet_vph_phrases), 3)\n",
    "\n",
    "print('The average length of a verb phrase within Hamlet is ~{} words.'.format(hamlet_vph_phrases_average_length))"
   ]
  },
  {
   "cell_type": "code",
   "execution_count": 54,
   "id": "07bce1ec-f252-42cd-8786-a080c7a7d3f4",
   "metadata": {},
   "outputs": [],
   "source": [
    "# # calculating the portion of verb phrases within the corpus\n",
    "# number_of_hamlet_vph_phrases = len(hamlet_vph_phrases)\n",
    "# hamlet_vph_phrases_proporation = round(number_of_hamlet_vph_phrases * 100/number_of_hamlet_sentences, 3)\n",
    "\n",
    "# print('Verb phrases account for ~{}% of sentences within Hamlet.'.format(hamlet_vph_phrases_proporation))"
   ]
  },
  {
   "cell_type": "code",
   "execution_count": 55,
   "id": "87be0bc9-e049-42e3-88b9-e5dc44c64eda",
   "metadata": {},
   "outputs": [
    {
     "name": "stdout",
     "output_type": "stream",
     "text": [
      "['liue the King ', 'bed Francisco ', 'do meet Horatio ']\n",
      "['liue the King ', 'bed Francisco ', 'do meet Horatio ']\n"
     ]
    }
   ],
   "source": [
    "print(hamlet_vph_phrases[:3])\n",
    "\n",
    "hamlet_whole_sentences = []\n",
    "\n",
    "# loop over the sentences in the adjective phrase sentences we created:\n",
    "for sents in hamlet_vph_tags:\n",
    "    temp=''\n",
    "    for (word,tag) in sents:\n",
    "        temp += word+' '\n",
    "    hamlet_whole_sentences.append(temp)\n",
    "\n",
    "        \n",
    "print(hamlet_whole_sentences[:3])"
   ]
  }
 ],
 "metadata": {
  "kernelspec": {
   "display_name": "Python 3",
   "language": "python",
   "name": "python3"
  },
  "language_info": {
   "codemirror_mode": {
    "name": "ipython",
    "version": 3
   },
   "file_extension": ".py",
   "mimetype": "text/x-python",
   "name": "python",
   "nbconvert_exporter": "python",
   "pygments_lexer": "ipython3",
   "version": "3.8.8"
  }
 },
 "nbformat": 4,
 "nbformat_minor": 5
}
