{
 "cells": [
  {
   "cell_type": "markdown",
   "id": "eca4c57e-6ab1-4b79-8ceb-416037c6d201",
   "metadata": {},
   "source": [
    "# Trist'n Joseph - IST664 - Homework 3"
   ]
  },
  {
   "cell_type": "markdown",
   "id": "5fcc3993-b348-4ab5-9693-e8d89dad964c",
   "metadata": {},
   "source": [
    "## Introduction"
   ]
  },
  {
   "cell_type": "markdown",
   "id": "5328b086-10ab-49ea-ab70-c972eb6875f2",
   "metadata": {},
   "source": [
    "Natural language processing (NLP) is a subfield of linguistics, computer science, and artificial intelligence concerned with the interactions between computers and human language. Generally, NLP refers to the manipulation of natural languages, such as text, by software. In particular, NLP is concerned with how to program computers to process and analyze large amounts of natural language data.\n",
    "\n",
    "There are vast amounts of text data, and natural language is very nuanced; for example, how should one interpret the phrase “I made her duck”? These issues make NLP very challenging. However, there are also various techniques which could be utilized to combat these challenges.\n",
    "\n",
    "Within a previous assignments, I explored NLP by collecting and comparing two text documents. After loading the data, I utilized various NLP techniques such as word tokenization, stemming, regular expression filtering, and stop word removal to clean the data and created unigrams, bigrams, and trigrams. Once the data was cleaned, I performed analysis on the text to understand the frequencies and likelihood of words and phrases both within and between the text documents. Additionally, I investigated part-of-speech tagging, and analyzed the distribution of the parts-of-speech identified within the text documents. \n",
    "\n",
    "I compared financial articles (hosted on MarketWatch.com) to Hamlet (found within the Gutenberg library in NLTK). I chose to compare these text documents because I hypothesized that there would be a difference in the language used. Financial documents typically present facts to a reader and they do this using statistics and formal language. Hamlet, on the other hand, is presenting a story to a reader, and should use more expressive/emotive language. Therefore, I wanted to test whether my hypotheses were true.\n",
    "To collect the financial articles, I built a web scraping function that accepts a stock’s ticker symbol and an integer which represents the number of recent articles to collect as input parameters. The function then navigates to a MarketWatch page which has links to all the articles for the input stock. Then the appropriate number of links are collected, based on the input integer. Lastly, the function navigates to the article page for each link collected and saves the title, body, timestamp, and URL for the article in a pandas data frame.  \n",
    "For text processing, however, the document needed to be in the format of raw text and not within a pandas data frame. Therefore, after collecting the 500 most recent articles about Tesla (ticker symbol TSLA), I combined all articles into one large sample of raw text. \n",
    "To load the Hamlet data, I simply navigated to its location within the NLTK library and saved the raw text as a python variable. \n",
    "\n",
    "Additionally, I continued to explore NLP by investigating sentiment analysis. Sentiment analysis is a subfield within NLP, and it refers to the classification of emotions within text. This classification allows for the identification of sentiment (or feeling) towards something.\n",
    "For example, a sentence such as “I am very hard-working” expresses an individual’s belief, where the word “very” is used to amplify/intensify the adjective-phrase “hard-working”. A sentence such as “I am very sad about my grades” expresses the emotion that an individual is disappointed by something, where the word “very” is used to amplify the emotion.\n",
    "To understand the sentiment within the financial articles and Hamlet, I applied parts-of-speech (POS) tagging to the texts, extracted phrases and sentences related to the POS tags identified, generated summary statistics regarding the phrases, and analyzed the results with respect to the bigrams and trigrams previously identified.\n",
    "\n",
    "Within this assignment, I continue to explore sentiment analysis. In particular, I uncover whether the sentences within the text (of the financial documents) were negative, positive, or neutral; and I developed models to classify text, given some input parameters. Classifying the text also allowed me to analyze the sentences further -- for each classification, I extracted the POS of the sentence and provided descriptive anlysis to explain the insights.  "
   ]
  },
  {
   "cell_type": "markdown",
   "id": "1fed5a76-2628-4d9c-b950-51c156be64e7",
   "metadata": {},
   "source": [
    "## Set up"
   ]
  },
  {
   "cell_type": "code",
   "execution_count": 1,
   "id": "4b4c074c-7564-424d-8d99-f880da479645",
   "metadata": {},
   "outputs": [
    {
     "name": "stderr",
     "output_type": "stream",
     "text": [
      "[nltk_data] Downloading package stopwords to\n",
      "[nltk_data]     C:\\Users\\trist\\AppData\\Roaming\\nltk_data...\n",
      "[nltk_data]   Package stopwords is already up-to-date!\n"
     ]
    }
   ],
   "source": [
    "import string\n",
    "import re\n",
    "import nltk\n",
    "from nltk import FreqDist\n",
    "from nltk.collocations import *\n",
    "from nltk import word_tokenize, sent_tokenize\n",
    "from nltk.stem import LancasterStemmer, PorterStemmer\n",
    "from nltk.corpus import stopwords\n",
    "nltk.download('stopwords')\n",
    "from nltk.corpus import treebank\n",
    "from nltk.corpus import sentence_polarity\n",
    "\n",
    "from textblob import TextBlob\n",
    "\n",
    "import random\n",
    "\n",
    "import pandas as pd\n",
    "import numpy as np\n",
    "\n",
    "from matplotlib import pyplot as plt\n",
    "%matplotlib inline\n",
    "\n",
    "from sklearn.model_selection import train_test_split\n",
    "from sklearn.model_selection import KFold\n",
    "\n",
    "from sklearn.metrics import confusion_matrix, accuracy_score\n",
    "from sklearn.naive_bayes import GaussianNB"
   ]
  },
  {
   "cell_type": "markdown",
   "id": "4b051e3e-c14b-482b-b2c5-eb358557b27a",
   "metadata": {},
   "source": [
    "## Data Loading"
   ]
  },
  {
   "cell_type": "code",
   "execution_count": 2,
   "id": "5c784c9d-39a9-44ba-8318-7a9f64036eae",
   "metadata": {},
   "outputs": [],
   "source": [
    "# financial articles\n",
    "raw_article_text_path = open(\"C:/Users/trist/OneDrive/Desktop/Trist'n/School/Syracuse University/Q4 2021/IST664/Assignments/Homework 1/article_text.txt\")\n",
    "raw_article_text = raw_article_text_path.read()"
   ]
  },
  {
   "cell_type": "code",
   "execution_count": 3,
   "id": "91f2ce03-435a-4be9-a0d7-81041167cc20",
   "metadata": {},
   "outputs": [],
   "source": [
    "def ug__regex_pattern_match(words):\n",
    "    \"\"\"\n",
    "    \"\"\"    \n",
    "    ug__regex_pattern = re.compile('^[^a-z]+$')\n",
    "    if (ug__regex_pattern.match(words)):\n",
    "        return True\n",
    "    else:\n",
    "        return False\n",
    "    \n",
    "def bg__regex_tokenize(words):\n",
    "    \"\"\"\n",
    "    \"\"\"  \n",
    "    pattern = r''' (?x)\n",
    "        (?:[A-Z]\\.)+\n",
    "        | (?:--+)\n",
    "        | \\w+(?:-\\w+)*        \n",
    "        | \\$?\\d+(?:\\.\\d+)?%?\n",
    "        | ['\\\".?!,:;/]+\n",
    "        | [][.,;â€â€™?():-_%#â€™]\n",
    "        '''\n",
    "    \n",
    "    tokenized_text = nltk.regexp_tokenize(words, pattern)\n",
    "    \n",
    "    return tokenized_text"
   ]
  },
  {
   "cell_type": "code",
   "execution_count": 4,
   "id": "0d48cb42-e5e0-4eb4-a7e8-342fb8d6d405",
   "metadata": {},
   "outputs": [],
   "source": [
    "def clean_text_data(raw_text):\n",
    "    \"\"\"\n",
    "    \"\"\"\n",
    "    porter = nltk.PorterStemmer()\n",
    "    nltkstopwords = nltk.corpus.stopwords.words('english')\n",
    "    all_stopwords = nltkstopwords + [\"MarketWatch\", \"marketwatch\", \"mw\", \"zachs\", \"zacks\", \"barron\"]\n",
    "    \n",
    "    # need to develop different methods for unigrams vs bigrams etc\n",
    "    # -- unigram\n",
    "    ug__text_tokenized = nltk.word_tokenize(raw_text)\n",
    "    ug__text_words = [w.lower() for w in ug__text_tokenized]\n",
    "    ug__text_words = [porter.stem(word) for word in ug__text_words]\n",
    "    ug__text_words_filtered = [w for w in ug__text_words if not ug__regex_pattern_match(w)]\n",
    "    ug__text_words_filtered = [w for w in ug__text_words_filtered if not w in all_stopwords]\n",
    "    ug__word_frequency_distribution = FreqDist(ug__text_words_filtered)\n",
    "    \n",
    "    # -- bigram\n",
    "    bigram_measures = nltk.collocations.BigramAssocMeasures()\n",
    "    bg__text_tokenized = bg__regex_tokenize(raw_text)\n",
    "    bg__text_words = [w for w in bg__text_tokenized]\n",
    "    \n",
    "    # ---- frequencies\n",
    "    bg__fnder_freq = BigramCollocationFinder.from_words(bg__text_words)\n",
    "    bg__fnder_freq.apply_word_filter(ug__regex_pattern_match)\n",
    "    bg__fnder_freq.apply_word_filter(lambda w: w in all_stopwords)\n",
    "    bg__scored_freq = bg__fnder_freq.score_ngrams(bigram_measures.raw_freq)\n",
    "    \n",
    "    # ---- PMI\n",
    "    bg__fnder_pmi = BigramCollocationFinder.from_words(bg__text_words)\n",
    "    bg__fnder_pmi.apply_freq_filter(5)\n",
    "    bg__scored_pmi = bg__fnder_pmi.score_ngrams(bigram_measures.pmi)\n",
    "    \n",
    "    # -- trigram\n",
    "    trigram_measures = nltk.collocations.TrigramAssocMeasures()\n",
    "    tg__text_tokenized = bg__regex_tokenize(raw_text)\n",
    "    tg__text_words = [w for w in tg__text_tokenized]\n",
    "    \n",
    "    # ---- frequencies\n",
    "    tg__fnder_freq = TrigramCollocationFinder.from_words(tg__text_words)\n",
    "    tg__fnder_freq.apply_word_filter(ug__regex_pattern_match)\n",
    "    tg__fnder_freq.apply_word_filter(lambda w: w in all_stopwords)\n",
    "    tg__scored_freq = tg__fnder_freq.score_ngrams(trigram_measures.raw_freq)\n",
    "    \n",
    "    # ---- PMI\n",
    "    tg__fnder_pmi = TrigramCollocationFinder.from_words(tg__text_words)\n",
    "    tg__fnder_pmi.apply_freq_filter(5)\n",
    "    tg__scored_pmi = tg__fnder_pmi.score_ngrams(trigram_measures.pmi)\n",
    "    \n",
    "    # -- output\n",
    "    od  = {\n",
    "        'unigrams': {\n",
    "            'frequency': ug__word_frequency_distribution,\n",
    "            'tokens': ug__text_tokenized,\n",
    "            'cleaned_words': ug__text_words_filtered\n",
    "        },\n",
    "        'bigrams': {\n",
    "            'frequency': bg__scored_freq,\n",
    "            'pmi': bg__scored_pmi,\n",
    "            'tokens': bg__text_tokenized\n",
    "        },\n",
    "        'trigrams': {\n",
    "            'frequency': tg__scored_freq,\n",
    "            'pmi': tg__scored_pmi, \n",
    "            'tokens': tg__text_tokenized\n",
    "        }\n",
    "    }\n",
    "    return od"
   ]
  },
  {
   "cell_type": "code",
   "execution_count": 5,
   "id": "06a1a926-423b-46e4-9e58-750ebfb803f2",
   "metadata": {},
   "outputs": [],
   "source": [
    "def tag_POS(tagging_text):\n",
    "    \"\"\"\n",
    "    \"\"\"\n",
    "    # Separating the data into training and test data\n",
    "    treebank_text = treebank.raw()\n",
    "    treebank_tokens = treebank.words()\n",
    "    treebank_tagged_words = treebank.tagged_words()\n",
    "    treebank_tagged = treebank.tagged_sents()\n",
    "    \n",
    "    t0 = nltk.DefaultTagger('NN')\n",
    "    t1 = nltk.UnigramTagger(treebank_tagged, backoff=t0)\n",
    "    t2 = nltk.BigramTagger(treebank_tagged, backoff=t1)\n",
    "    \n",
    "    raw_text_split = nltk.sent_tokenize(tagging_text)\n",
    "    text_tokenized = [bg__regex_tokenize(word) for word in raw_text_split]\n",
    "    \n",
    "    tagged_text = [t2.tag(tokens) for tokens in text_tokenized]\n",
    "    \n",
    "    tagged_text_flat = [pair for tagging_text in tagged_text for pair in tagging_text]\n",
    "    \n",
    "    return tagged_text_flat"
   ]
  },
  {
   "cell_type": "code",
   "execution_count": 6,
   "id": "01d8d39b-e7bf-487e-898c-d2fd7d39f5e9",
   "metadata": {},
   "outputs": [],
   "source": [
    "def get_sentiment(textsplit_list):\n",
    "    \"\"\"\n",
    "    \"\"\"\n",
    "    polarities = []\n",
    "    polarity_categories = []\n",
    "    subjectivities = []\n",
    "    \n",
    "    textsplit_textblob = [TextBlob(textsplit) for textsplit in textsplit_list]\n",
    "    \n",
    "    for blob in textsplit_textblob:\n",
    "        pol_sub = blob.sentiment\n",
    "        polarities.append(pol_sub[0])\n",
    "        subjectivities.append(pol_sub[1])\n",
    "        \n",
    "        if pol_sub[0] < 0:\n",
    "            pol_cat = 'negative'\n",
    "            \n",
    "        elif pol_sub[0] > 0:\n",
    "            pol_cat = 'positive'\n",
    "        \n",
    "        else:\n",
    "            pol_cat = 'neutral'\n",
    "            \n",
    "        polarity_categories.append(pol_cat)\n",
    "        \n",
    "    output = {\n",
    "        'polarity': polarities,\n",
    "        'category': polarity_categories,\n",
    "        'subjectivity': subjectivities\n",
    "    }\n",
    "    \n",
    "    return output"
   ]
  },
  {
   "cell_type": "code",
   "execution_count": 7,
   "id": "1d5054cb-f00b-4c3a-bf71-8211c2888792",
   "metadata": {},
   "outputs": [],
   "source": [
    "def document_features(document, word_features):\n",
    "    document_words = set(document)\n",
    "    #we open a Pytnon dictionary instead of a list\n",
    "    features = {}\n",
    "    for word in word_features:\n",
    "        #checking if the word from word_features matches a word in the document\n",
    "        features['contains({})'.format(word)] = (word in document_words)\n",
    "    return features"
   ]
  },
  {
   "cell_type": "code",
   "execution_count": 8,
   "id": "b5884397-618f-4792-b5c9-d4e07f43fa5b",
   "metadata": {},
   "outputs": [],
   "source": [
    "def bi_document_features(document, bigram_features):\n",
    "    document_words = list(nltk.bigrams(document))\n",
    "    features = {}\n",
    "    for word in bigram_features:\n",
    "        #boolean logic will retunt 'True' if there is a match, or 'False' if not\n",
    "        features['contains({})'.format(word)] = (word in document_words)\n",
    "    return features"
   ]
  },
  {
   "cell_type": "code",
   "execution_count": 9,
   "id": "8ec4a79e-c16a-49f6-a868-682c9ddf1780",
   "metadata": {},
   "outputs": [],
   "source": [
    "# def ti_document_features(document, trigram_features):\n",
    "#     document_words = list(nltk.bigrams(document))\n",
    "#     features = {}\n",
    "#     for word in bigram_features:\n",
    "#         #boolean logic will retunt 'True' if there is a match, or 'False' if not\n",
    "#         features['contains({})'.format(word)] = (word in document_words)\n",
    "#     return features"
   ]
  },
  {
   "cell_type": "markdown",
   "id": "0b055340-7aa0-41a2-84ec-b1a44068f120",
   "metadata": {},
   "source": [
    "## Grammar Creation"
   ]
  },
  {
   "cell_type": "markdown",
   "id": "917ade51-0273-4140-a0da-c5e83479ee34",
   "metadata": {},
   "source": [
    "To tag the texts, data cleaning was necessary. I first tokenized all the sentences within each document, tokenized the words within each sentence, and then removed all the relevant stop words. I chose not to perform neither lowercasing nor word stemming because I wanted to preserve as much sentence context as possible. If I performed lowercasing, I would lose context such as sentences ending with capitalized words. Similarly, if I performed word stemming, words such as “vehicle” and “vehicles” would be the same, and I would lose context as to what the sentence was initially referring to.\n",
    "\n",
    "Once the cleaning was completed, I created grammars that would be used to identify the POS within a phrase or sentence contained with the texts. I defined adjective, adverb, noun, and verb grammars as follows:\n",
    "\n",
    "- Adjective: a phrase with an adverb followed by an adjective.\n",
    "- Adverb: a phrase with consecutive adverbs.\n",
    "- Noun: a phrase with a proper noun; a determiner followed by a noun; or a determiner followed a noun, and a pronoun or a possessive ending.\n",
    "- Verb: a phrase with a verb followed by a proper noun; a verb followed by a determiner and a noun; or a verb followed by a determiner, a noun, a pronoun or possessive ending, and another noun.\n"
   ]
  },
  {
   "cell_type": "markdown",
   "id": "2c3f3869-019d-49b0-acdf-5067d2a6897b",
   "metadata": {},
   "source": [
    "### Adjectives"
   ]
  },
  {
   "cell_type": "markdown",
   "id": "a07862ab-7f55-45da-8ae2-269eb64ad609",
   "metadata": {},
   "source": [
    "Adjectives typically modify a noun or pronoun to make a sentence clearer and more specific."
   ]
  },
  {
   "cell_type": "code",
   "execution_count": 10,
   "id": "2b35e246-603f-47a5-8909-848e32c42657",
   "metadata": {},
   "outputs": [],
   "source": [
    "grammar_adjph = \"ADJPH: {<RB.?>+<JJ.?>}\"\n",
    "chunk_parser_adj = nltk.RegexpParser(grammar_adjph)"
   ]
  },
  {
   "cell_type": "markdown",
   "id": "5a0acd9f-5005-4d41-9257-d4eb74903a2a",
   "metadata": {},
   "source": [
    "### Adverbs"
   ]
  },
  {
   "cell_type": "markdown",
   "id": "70050b91-9ddc-47f1-a48b-93fb79f676fc",
   "metadata": {},
   "source": [
    "Adverbs are used to modify verbs, adjectives, or other adverbs within a sentence. An adverb usually modifies by explaining how, when, where, why, under what conditions, or to what extent. "
   ]
  },
  {
   "cell_type": "code",
   "execution_count": 11,
   "id": "851d4a19-0276-41ae-ba97-b5d12629cfa0",
   "metadata": {},
   "outputs": [],
   "source": [
    "grammar_advph = \"ADVPH: {<RB>+<RB>}\"\n",
    "chunk_parser_advph = nltk.RegexpParser(grammar_advph)"
   ]
  },
  {
   "cell_type": "markdown",
   "id": "1c66d8a7-3496-4d2c-a853-a6da750ac5d4",
   "metadata": {},
   "source": [
    "### Nouns"
   ]
  },
  {
   "cell_type": "markdown",
   "id": "69818405-87b5-4442-aa7e-a8779733278a",
   "metadata": {},
   "source": [
    "A noun is a word that is used to name something. These can include persons, places, things, or ideas. It must be noted that based on the POS tagging algorithm utilized, it is expected that there would be disproportionately more nouns than any other POS identified. "
   ]
  },
  {
   "cell_type": "code",
   "execution_count": 12,
   "id": "77200f44-5d24-4b0b-9ebb-67bec4bb80d6",
   "metadata": {},
   "outputs": [],
   "source": [
    "grammar_nph = \"NPH: {<NNP> | <DT>+<NN.?> | <DT>+<N.?>+<P.?>+<N.?>}\"\n",
    "chunk_parser_nph = nltk.RegexpParser(grammar_nph)"
   ]
  },
  {
   "cell_type": "markdown",
   "id": "7f837132-0747-4bd4-8cff-0b0a8523bc97",
   "metadata": {},
   "source": [
    "### Verbs"
   ]
  },
  {
   "cell_type": "markdown",
   "id": "c425439b-8b7a-44f8-ad2f-715ccabf4707",
   "metadata": {},
   "source": [
    "Verbs typically indicate or describe what the subject (of a sentence) is doing or feeling."
   ]
  },
  {
   "cell_type": "code",
   "execution_count": 13,
   "id": "1a4ea0c6-8acd-424a-a6ac-1ad6fb739912",
   "metadata": {},
   "outputs": [],
   "source": [
    "grammar_vph = \"VPH: {<VB.?>+<NNP> | <VB.?>+<DT>+<NN.?> | <VB.?>+<DT>+<N.?>+<P.?>+<N.?>}\"\n",
    "chunk_parser_vph = nltk.RegexpParser(grammar_vph)"
   ]
  },
  {
   "cell_type": "markdown",
   "id": "9ee7eb85-484d-4160-99d3-8cd62a027bf8",
   "metadata": {},
   "source": [
    "## Sentiment Analysis"
   ]
  },
  {
   "cell_type": "code",
   "execution_count": 72,
   "id": "97e1c555-3a23-469d-8d23-d105fafcac5d",
   "metadata": {},
   "outputs": [],
   "source": [
    "# raw_article_text"
   ]
  },
  {
   "cell_type": "code",
   "execution_count": 14,
   "id": "017dc054-6aef-4d75-91fb-c030df20e766",
   "metadata": {},
   "outputs": [],
   "source": [
    "raw_article_text_textsplit = nltk.sent_tokenize(raw_article_text)"
   ]
  },
  {
   "cell_type": "code",
   "execution_count": 15,
   "id": "02ca7854-bd0c-438a-a0f2-772f31f55fef",
   "metadata": {},
   "outputs": [],
   "source": [
    "article_sentiments = get_sentiment(raw_article_text_textsplit)"
   ]
  },
  {
   "cell_type": "markdown",
   "id": "4d7a181f-d810-483a-b1cb-7e40191f9feb",
   "metadata": {},
   "source": [
    "To extract the polarities and categories (as well as subjectivities), I utilized the `sentiment` method provided within the TextBlob library. TextBlob's sentiment method reads a sentence, extracts information about the sentence, and scores the sentence on a polarity scale from -1 to +1. Thereofore, after all sentences were given a ploarity score, I classified `positive` sentences as those within a socre > 0, `negative` sentences as those with a score < 0, and `neutral` sentences as those with a socre = 0. "
   ]
  },
  {
   "cell_type": "code",
   "execution_count": 16,
   "id": "73bc1285-2904-46f3-8bbd-b4d02feb2024",
   "metadata": {},
   "outputs": [
    {
     "name": "stdout",
     "output_type": "stream",
     "text": [
      "[0.4, 0.0, -0.2, 0.0, 0.0, -0.15555555555555559, 0.2, 0.16, 0.052500000000000005, -0.075, 0.0, 0.0, 0.03333333333333333, 0.0, 0.0, 0.044444444444444446, 0.0, 0.0, 0.04999999999999999, 0.13636363636363635, 0.0, -0.1, 0.0, 0.0, 0.0, 0.0, 0.0, 0.1, 0.0, 0.02592592592592593, 0.24545454545454545, 0.0, 0.0, -0.3, 0.25, 0.6, 0.25, 0.3, 0.0625, 0.2833333333333333, 0.5, 0.45, 0.0, 0.0, 0.25, 0.0, 0.0, 0.1, 0.125, 0.0, 0.0]\n",
      "['positive', 'neutral', 'negative', 'neutral', 'neutral', 'negative', 'positive', 'positive', 'positive', 'negative', 'neutral', 'neutral', 'positive', 'neutral', 'neutral', 'positive', 'neutral', 'neutral', 'positive', 'positive', 'neutral', 'negative', 'neutral', 'neutral', 'neutral', 'neutral', 'neutral', 'positive', 'neutral', 'positive', 'positive', 'neutral', 'neutral', 'negative', 'positive', 'positive', 'positive', 'positive', 'positive', 'positive', 'positive', 'positive', 'neutral', 'neutral', 'positive', 'neutral', 'neutral', 'positive', 'positive', 'neutral', 'neutral']\n"
     ]
    }
   ],
   "source": [
    "print(article_sentiments['polarity'][:51])\n",
    "print(article_sentiments['category'][:51])"
   ]
  },
  {
   "cell_type": "code",
   "execution_count": 17,
   "id": "993e705e-f39c-422f-855b-e25e7352774a",
   "metadata": {},
   "outputs": [],
   "source": [
    "article_sentiment_df = pd.DataFrame(list(zip(article_sentiments['polarity'], article_sentiments['category'], article_sentiments['subjectivity'], raw_article_text_textsplit)), columns=['polarity', 'category', 'subjectivity', 'sentence'])"
   ]
  },
  {
   "cell_type": "code",
   "execution_count": 18,
   "id": "45df2e6d-364b-4cea-9d8d-503b4a8aeac8",
   "metadata": {},
   "outputs": [
    {
     "data": {
      "text/html": [
       "<div>\n",
       "<style scoped>\n",
       "    .dataframe tbody tr th:only-of-type {\n",
       "        vertical-align: middle;\n",
       "    }\n",
       "\n",
       "    .dataframe tbody tr th {\n",
       "        vertical-align: top;\n",
       "    }\n",
       "\n",
       "    .dataframe thead th {\n",
       "        text-align: right;\n",
       "    }\n",
       "</style>\n",
       "<table border=\"1\" class=\"dataframe\">\n",
       "  <thead>\n",
       "    <tr style=\"text-align: right;\">\n",
       "      <th></th>\n",
       "      <th>polarity</th>\n",
       "      <th>category</th>\n",
       "      <th>subjectivity</th>\n",
       "      <th>sentence</th>\n",
       "    </tr>\n",
       "  </thead>\n",
       "  <tbody>\n",
       "    <tr>\n",
       "      <th>0</th>\n",
       "      <td>0.4</td>\n",
       "      <td>positive</td>\n",
       "      <td>0.375</td>\n",
       "      <td>Tesla-Hertz Deal Is Great News — for Carvana S...</td>\n",
       "    </tr>\n",
       "    <tr>\n",
       "      <th>1</th>\n",
       "      <td>0.0</td>\n",
       "      <td>neutral</td>\n",
       "      <td>0.000</td>\n",
       "      <td>Tesla Bulls Are Hiking Price Targets.</td>\n",
       "    </tr>\n",
       "    <tr>\n",
       "      <th>2</th>\n",
       "      <td>-0.2</td>\n",
       "      <td>negative</td>\n",
       "      <td>0.400</td>\n",
       "      <td>Bears Are Holding Firm.</td>\n",
       "    </tr>\n",
       "    <tr>\n",
       "      <th>3</th>\n",
       "      <td>0.0</td>\n",
       "      <td>neutral</td>\n",
       "      <td>0.000</td>\n",
       "      <td>- MarketWatch Tuesday evening, Goldman Sachs a...</td>\n",
       "    </tr>\n",
       "    <tr>\n",
       "      <th>4</th>\n",
       "      <td>0.0</td>\n",
       "      <td>neutral</td>\n",
       "      <td>1.000</td>\n",
       "      <td>He is a Tesla bull, rating shares of the elect...</td>\n",
       "    </tr>\n",
       "  </tbody>\n",
       "</table>\n",
       "</div>"
      ],
      "text/plain": [
       "   polarity  category  subjectivity  \\\n",
       "0       0.4  positive         0.375   \n",
       "1       0.0   neutral         0.000   \n",
       "2      -0.2  negative         0.400   \n",
       "3       0.0   neutral         0.000   \n",
       "4       0.0   neutral         1.000   \n",
       "\n",
       "                                            sentence  \n",
       "0  Tesla-Hertz Deal Is Great News — for Carvana S...  \n",
       "1              Tesla Bulls Are Hiking Price Targets.  \n",
       "2                            Bears Are Holding Firm.  \n",
       "3  - MarketWatch Tuesday evening, Goldman Sachs a...  \n",
       "4  He is a Tesla bull, rating shares of the elect...  "
      ]
     },
     "execution_count": 18,
     "metadata": {},
     "output_type": "execute_result"
    }
   ],
   "source": [
    "article_sentiment_df.head()"
   ]
  },
  {
   "cell_type": "code",
   "execution_count": 19,
   "id": "ec506344-a9f5-4ad2-ab42-0aebd51b0320",
   "metadata": {},
   "outputs": [],
   "source": [
    "article_sentiment_summary_df = article_sentiment_df \\\n",
    "    .groupby('category') \\\n",
    "    .agg(\n",
    "        number_of_articles = pd.NamedAgg('category', 'count'),\n",
    "        average_polarity = pd.NamedAgg('polarity', 'mean'),\n",
    "        average_subjectivity = pd.NamedAgg('subjectivity', 'mean'),\n",
    "    ) \\\n",
    "    .reset_index() \\\n",
    "    .sort_values('number_of_articles', ascending=False)"
   ]
  },
  {
   "cell_type": "code",
   "execution_count": 20,
   "id": "0b18b04d-514b-4c9c-b0e3-3fb803f0c4d1",
   "metadata": {},
   "outputs": [
    {
     "data": {
      "text/html": [
       "<div>\n",
       "<style scoped>\n",
       "    .dataframe tbody tr th:only-of-type {\n",
       "        vertical-align: middle;\n",
       "    }\n",
       "\n",
       "    .dataframe tbody tr th {\n",
       "        vertical-align: top;\n",
       "    }\n",
       "\n",
       "    .dataframe thead th {\n",
       "        text-align: right;\n",
       "    }\n",
       "</style>\n",
       "<table border=\"1\" class=\"dataframe\">\n",
       "  <thead>\n",
       "    <tr style=\"text-align: right;\">\n",
       "      <th></th>\n",
       "      <th>category</th>\n",
       "      <th>number_of_articles</th>\n",
       "      <th>average_polarity</th>\n",
       "      <th>average_subjectivity</th>\n",
       "    </tr>\n",
       "  </thead>\n",
       "  <tbody>\n",
       "    <tr>\n",
       "      <th>1</th>\n",
       "      <td>neutral</td>\n",
       "      <td>679</td>\n",
       "      <td>0.000000</td>\n",
       "      <td>0.066684</td>\n",
       "    </tr>\n",
       "    <tr>\n",
       "      <th>2</th>\n",
       "      <td>positive</td>\n",
       "      <td>634</td>\n",
       "      <td>0.227258</td>\n",
       "      <td>0.471792</td>\n",
       "    </tr>\n",
       "    <tr>\n",
       "      <th>0</th>\n",
       "      <td>negative</td>\n",
       "      <td>187</td>\n",
       "      <td>-0.195757</td>\n",
       "      <td>0.443117</td>\n",
       "    </tr>\n",
       "  </tbody>\n",
       "</table>\n",
       "</div>"
      ],
      "text/plain": [
       "   category  number_of_articles  average_polarity  average_subjectivity\n",
       "1   neutral                 679          0.000000              0.066684\n",
       "2  positive                 634          0.227258              0.471792\n",
       "0  negative                 187         -0.195757              0.443117"
      ]
     },
     "execution_count": 20,
     "metadata": {},
     "output_type": "execute_result"
    }
   ],
   "source": [
    "article_sentiment_summary_df"
   ]
  },
  {
   "cell_type": "markdown",
   "id": "0be2d086-6da4-4a54-8544-34406c29fcdd",
   "metadata": {},
   "source": [
    "The table above shows that the TSLA articles contained a large number of neutral and positive sentences, and a relatively low number of negative sentences.\n",
    "\n",
    "The summary metrics from the table also indicate that although sentences were seperated into negative or positive, the articles were neither overwhemling positive nor negative. This is show by the average polarity socres -- if positive sentences were 'overwhemlingly positive', then the average polarity for positive sentences is expected to be closer to 1. However, the metric shows that the average polarity for positive sentences is ~0.23. \n",
    "\n",
    "Similarly, if negative sentences were 'overwhemlingly negative', then it is expected that the average plaority will be closer to -1. However, the average polarity for negative sentences is ~-0.20.\n",
    "\n",
    "This suggests that although sentences were classified as negative and positive, the underlying sentiment of the sentences were closer to neutral than they were to either negative or positive. \n",
    "\n",
    "With this knowledge, it is expected that classification models will perform relatively poorly, and there could be an overwhemlingly large misclassification of observations into the `neutral` category. Not only because `neutral` is the largest category within the data, but because the sentences associated with each category can be very similar to sentences within the `neutral` category."
   ]
  },
  {
   "cell_type": "code",
   "execution_count": 21,
   "id": "1d19290c-63de-42da-be18-a5756a83b4e9",
   "metadata": {},
   "outputs": [],
   "source": [
    "article_sentiment_summary_df['title'] = ['MarketWatch Articles'] * len(article_sentiment_summary_df)\n",
    "article_sentiment_summary_df['author'] = ['MarketWatch'] * len(article_sentiment_summary_df)"
   ]
  },
  {
   "cell_type": "code",
   "execution_count": 22,
   "id": "992b048d-a2e4-4da7-8c8f-b85c845a13cf",
   "metadata": {},
   "outputs": [],
   "source": [
    "# article_sentiment_summary_df\n",
    "# data__output_path = \"C:/Users/trist/OneDrive/Desktop/Trist'n/School/Syracuse University/Q4 2021/IST664/Assignments/Homework 3/homework.csv\"\n",
    "# article_sentiment_summary_df.to_csv(data__output_path)"
   ]
  },
  {
   "cell_type": "code",
   "execution_count": 23,
   "id": "210a0a5d-293f-470a-921e-6c3fd964d6c4",
   "metadata": {},
   "outputs": [
    {
     "data": {
      "text/plain": [
       "Text(0.5, 1.0, 'Distribution of Polarity Category, TSLA Articles')"
      ]
     },
     "execution_count": 23,
     "metadata": {},
     "output_type": "execute_result"
    },
    {
     "data": {
      "image/png": "[encoded data removed]",
      "text/plain": [
       "<Figure size 1440x360 with 1 Axes>"
      ]
     },
     "metadata": {
      "needs_background": "light"
     },
     "output_type": "display_data"
    }
   ],
   "source": [
    "fig = plt.figure(figsize = (20, 5))\n",
    "plt.bar(article_sentiment_summary_df.category, article_sentiment_summary_df.number_of_articles)\n",
    "plt.ylabel('Frequency')\n",
    "plt.xlabel('Polarity Category')\n",
    "plt.title('Distribution of Polarity Category, TSLA Articles')"
   ]
  },
  {
   "cell_type": "code",
   "execution_count": 24,
   "id": "429a8390-c92b-4f05-a406-86c1736e24a6",
   "metadata": {},
   "outputs": [],
   "source": [
    "negative_sentences = []\n",
    "positive_sentences = []\n",
    "neutral_sentences = []\n",
    "\n",
    "for i in range(0, len(article_sentiments['category'])):\n",
    "    if article_sentiments['category'][i] == 'negative':\n",
    "        negative_sentences.append(raw_article_text_textsplit[i])\n",
    "        \n",
    "    elif article_sentiments['category'][i] == 'positive':\n",
    "        positive_sentences.append(raw_article_text_textsplit[i])\n",
    "        \n",
    "    else:\n",
    "        neutral_sentences.append(raw_article_text_textsplit[i])"
   ]
  },
  {
   "cell_type": "code",
   "execution_count": 25,
   "id": "0f451632-4bdc-40c0-a351-126be8a2f8ff",
   "metadata": {},
   "outputs": [],
   "source": [
    "train_set = article_sentiment_df[:1501]\n",
    "# test_set = article_sentiment_df[1125:]"
   ]
  },
  {
   "cell_type": "code",
   "execution_count": 26,
   "id": "69ec90dd-950e-4b3c-b33f-3897330f9139",
   "metadata": {},
   "outputs": [
    {
     "name": "stdout",
     "output_type": "stream",
     "text": [
      "(['Tesla-Hertz Deal Is Great News — for Carvana Stock - MarketWatch The move by \\n        Hertz Global\\n       to bulk up its global fleet of rentals with 100,000 electric vehicles from \\n        Tesla\\n       is great news for \\n        Carvana,\\n       which will work with Hertz to dispose of its unwanted cars.'], 'positive')\n"
     ]
    }
   ],
   "source": [
    "docs = []\n",
    "\n",
    "for i in range(0, len(train_set)):\n",
    "    docs.append(([train_set['sentence'][i]], train_set['category'][i]))\n",
    "    \n",
    "print(docs[0])"
   ]
  },
  {
   "cell_type": "code",
   "execution_count": 27,
   "id": "19281049-bc98-4425-8ed0-c52cd30ac57e",
   "metadata": {},
   "outputs": [],
   "source": [
    "random.shuffle(docs)"
   ]
  },
  {
   "cell_type": "markdown",
   "id": "72fd16b0-caad-42d5-b963-fd0ae6a05585",
   "metadata": {},
   "source": [
    "## Unigram Model"
   ]
  },
  {
   "cell_type": "markdown",
   "id": "28509e5c-def6-442d-bce8-4408fa6a5018",
   "metadata": {},
   "source": [
    "To create the `unigram model`, I extracted the top 2000 most common unigrams within the document, as well as the polarity classification of the text. I then used the frequent unigrams to create a feature set that was then passed into an NLTK Naive Bayes classifier. The Naive Bayes classifier predicted the classification of text as `positive`, `negative`, or `neutral`, based on whether particular words were found within a sentence/piece of text. The model was able to do this because it was found that there were particular words (and/or phrases) which were more associated with negative sentences than they were with positive sentences. \n",
    "\n",
    "Thus, if the model detected a word that had very strong alignment with a particular category, it was more likely that the model will classify the text as that category."
   ]
  },
  {
   "cell_type": "code",
   "execution_count": 67,
   "id": "718c9068-8dc1-46be-9698-051fe7f1db66",
   "metadata": {},
   "outputs": [
    {
     "data": {
      "text/plain": [
       "4520"
      ]
     },
     "execution_count": 67,
     "metadata": {},
     "output_type": "execute_result"
    }
   ],
   "source": [
    "all_words = []\n",
    "for (sent, cat) in docs:\n",
    "    for words in sent:\n",
    "        word_tokenize = nltk.word_tokenize(words)\n",
    "        for word in word_tokenize:\n",
    "            all_words.append(word)\n",
    "            \n",
    "top_words = nltk.FreqDist(all_words)\n",
    "most_common_words = top_words.most_common(2000)\n",
    "word_features = [word for (word,count) in most_common_words]\n",
    "len(set(all_words))"
   ]
  },
  {
   "cell_type": "code",
   "execution_count": 69,
   "id": "6ade5a60-b75f-4f80-b276-a63eb39686ea",
   "metadata": {},
   "outputs": [],
   "source": [
    "featuresets = [(document_features(d, word_features), c) for (d, c) in docs]\n",
    "# featuresets[0]"
   ]
  },
  {
   "cell_type": "code",
   "execution_count": 30,
   "id": "6f65425b-be71-4de6-bf4a-0298ab262389",
   "metadata": {},
   "outputs": [
    {
     "name": "stdout",
     "output_type": "stream",
     "text": [
      "The accuracy of unigram model is ~45.267%\n"
     ]
    }
   ],
   "source": [
    "kf = KFold(n_splits = 5)\n",
    "sum = 0\n",
    "\n",
    "for train, test in kf.split(featuresets):\n",
    "    train_data = np.array(featuresets)[train]\n",
    "    test_data = np.array(featuresets)[test]\n",
    "    classifier = nltk.NaiveBayesClassifier.train(train_data)\n",
    "    sum += nltk.classify.accuracy(classifier, test_data)\n",
    "\n",
    "#storing the score in a variable \n",
    "acc1 = sum/5\n",
    "\n",
    "print('The accuracy of unigram model is ~{}%'.format(round(acc1 * 100, 3)))"
   ]
  },
  {
   "cell_type": "markdown",
   "id": "bd7183dd-6c38-439b-8370-93df8de8d4d8",
   "metadata": {},
   "source": [
    "Using this approach, the model was able to classify text into the appropriate category ~45 percent of the time. Given that this data contains 3 categories, the model outperformed a random guess approach (since randonly guessing would be correct ~33 percent of the time). \n",
    "\n",
    "However, ~45.27 percent of the data is `neutral`. If this model was truly good as classifying, it would perform better than classifying all objects as the largest class. In fact, the simplest thing for the model to do is classify all objects as the largest category. Therefore, given that the largest category accounts for ~45.27 percent of the data, and the model achieved an accuracy score of ~45.27 percent, the model is a poor performer."
   ]
  },
  {
   "cell_type": "markdown",
   "id": "a0118a31-1afd-4c5e-92a1-f6721506c6c7",
   "metadata": {},
   "source": [
    "## Bigram Model"
   ]
  },
  {
   "cell_type": "markdown",
   "id": "617f30e7-b388-40e8-aaec-deb8c2c0a1f8",
   "metadata": {},
   "source": [
    "To create the `bigram model`, I extracted the top 2000 most common bigrams within the document, as well as the polarity classification of the text. I then used the frequent bigrams to create a feature set that was then passed into an NLTK Naive Bayes classifier. The Naive Bayes classifier predicted the classification of text as `positive`, `negative`, or `neutral`, based on whether particular words were found within a sentence/piece of text. The model was able to do this because it was found that there were particular words (and/or phrases) which were more associated with negative sentences than they were with positive sentences. \n",
    "\n",
    "Thus, if the model detected a phrase that had very strong alignment with a particular category, it was more likely that the model will classify the text as that category."
   ]
  },
  {
   "cell_type": "code",
   "execution_count": 31,
   "id": "245f485f-4ee7-4ad7-96d1-b7ffce3b3da4",
   "metadata": {},
   "outputs": [],
   "source": [
    "bigram_frequency = clean_text_data(raw_article_text)['bigrams']['frequency']"
   ]
  },
  {
   "cell_type": "code",
   "execution_count": 32,
   "id": "7ac7cfe0-4875-4ce0-b107-838a3bdadfde",
   "metadata": {},
   "outputs": [
    {
     "data": {
      "text/plain": [
       "[('stock', 'market'),\n",
       " ('Dow', 'Jones'),\n",
       " ('Industrial', 'Average'),\n",
       " ('Jones', 'Industrial'),\n",
       " ('General', 'Motors'),\n",
       " ('52-week', 'high'),\n",
       " ('trading', 'session'),\n",
       " ('Ford', 'Motor'),\n",
       " ('Group', 'Inc'),\n",
       " ('Workhorse', 'Group'),\n",
       " ('Motors', 'Co'),\n",
       " ('Motor', 'Co'),\n",
       " ('Elon', 'Musk'),\n",
       " ('Tesla', 'Stock'),\n",
       " ('company', 'achieved'),\n",
       " ('Composite', 'Index'),\n",
       " ('consecutive', 'day'),\n",
       " ('company', 'reached'),\n",
       " ('electric', 'vehicles'),\n",
       " ('electric', 'vehicle'),\n",
       " ('trading', 'day'),\n",
       " ('strong', 'trading'),\n",
       " ('Stock', 'Is'),\n",
       " ('outperforms', 'market'),\n",
       " ('Cathie', 'Wood'),\n",
       " ('stock', 'outperforms'),\n",
       " ('Tesla', 'stock'),\n",
       " ('The', 'stock'),\n",
       " ('second', 'consecutive'),\n",
       " ('February', '4th')]"
      ]
     },
     "execution_count": 32,
     "metadata": {},
     "output_type": "execute_result"
    }
   ],
   "source": [
    "bigram_features = [bigram for (bigram, count) in bigram_frequency[:2000]]\n",
    "bigram_features[:30]"
   ]
  },
  {
   "cell_type": "code",
   "execution_count": 68,
   "id": "0e48abba-c0c0-413c-93b2-32e9f08b1a66",
   "metadata": {},
   "outputs": [],
   "source": [
    "bigram_featuresets = [(bi_document_features(d, bigram_features), c) for (d, c) in docs]\n",
    "# bigram_featuresets[0]"
   ]
  },
  {
   "cell_type": "code",
   "execution_count": 34,
   "id": "8ec253a9-d4de-4662-8f6e-2de8455c8e30",
   "metadata": {},
   "outputs": [
    {
     "name": "stdout",
     "output_type": "stream",
     "text": [
      "The accuracy of the bigram model is ~45.267%\n"
     ]
    }
   ],
   "source": [
    "kf = KFold(n_splits = 5)\n",
    "sum = 0\n",
    "\n",
    "for train, test in kf.split(bigram_featuresets):\n",
    "    train_data2 = np.array(bigram_featuresets)[train]\n",
    "    test_data2 = np.array(bigram_featuresets)[test]\n",
    "    classifier2 = nltk.NaiveBayesClassifier.train(train_data2)\n",
    "    sum += nltk.classify.accuracy(classifier2, test_data2)\n",
    "\n",
    "acc2 = sum/5\n",
    "\n",
    "print('The accuracy of the bigram model is ~{}%'.format(round(acc2 * 100, 3)))"
   ]
  },
  {
   "cell_type": "markdown",
   "id": "d88d6ecc-a512-4b50-9c6a-3b50684be192",
   "metadata": {},
   "source": [
    "Using this approach, the model was able to classify text into the appropriate category ~45 percent of the time. Given that this data contains 3 categories, the model outperformed a random guess approach (since randonly guessing would be correct ~33 percent of the time). \n",
    "\n",
    "However, ~45.27 percent of the data is `neutral`. If this model was truly good as classifying, it would perform better than classifying all objects as the largest class. In fact, the simplest thing for the model to do is classify all objects as the largest category. Therefore, given that the largest category accounts for ~45.27 percent of the data, and the model achieved an accuracy score of ~45.27 percent, the model is a poor performer."
   ]
  },
  {
   "cell_type": "markdown",
   "id": "aaaeab6c-bf33-4a0a-b8cb-be17814d85cf",
   "metadata": {},
   "source": [
    "## Subjectivity Model with Naive Bayes"
   ]
  },
  {
   "cell_type": "markdown",
   "id": "44bdff3b-70a6-4e8f-8b05-a0e647f51556",
   "metadata": {},
   "source": [
    "To create the `subjectivity model`, I trained a Naive Bayes classifier on the polarity and subjectivity of text within the documents. The output of this model was the classification of whether the text was `negative`, `positive`, or `neutral`.\n",
    "\n",
    "It it likely that particular levels of subjectivity are more aligned with different classifications. For example, a it might be seen that a subjectivity level of 0 is highly associated with a classification of `neutral`. Thus, if the model detected that subjectivity levels had very strong alignments with a particular category, it was more likely that the model will classify the text as that category."
   ]
  },
  {
   "cell_type": "code",
   "execution_count": 35,
   "id": "ce8155ba-9097-46c4-ae9a-bd23dda6db1f",
   "metadata": {},
   "outputs": [],
   "source": [
    "X = article_sentiment_df.iloc[:, [0, 2]].values\n",
    "y = article_sentiment_df.iloc[:, 1].values\n",
    "X_train, X_test, y_train, y_test = train_test_split(X, y, test_size=0.75, random_state=1234)"
   ]
  },
  {
   "cell_type": "code",
   "execution_count": 36,
   "id": "f488f0e1-442d-440b-8949-0774b3ed2f06",
   "metadata": {},
   "outputs": [
    {
     "data": {
      "text/plain": [
       "GaussianNB()"
      ]
     },
     "execution_count": 36,
     "metadata": {},
     "output_type": "execute_result"
    }
   ],
   "source": [
    "nb_classifier = GaussianNB()\n",
    "nb_classifier.fit(X_train, y_train)"
   ]
  },
  {
   "cell_type": "code",
   "execution_count": 37,
   "id": "f7558fab-39c1-45b0-a03c-4682da220746",
   "metadata": {},
   "outputs": [],
   "source": [
    "nb_y_predictions = nb_classifier.predict(X_test)"
   ]
  },
  {
   "cell_type": "code",
   "execution_count": 38,
   "id": "91157682-a90d-4905-a19c-e596fdf25f41",
   "metadata": {},
   "outputs": [],
   "source": [
    "nb_confusion_matrix = pd.DataFrame(confusion_matrix(y_test, nb_y_predictions))\n",
    "nb_accuracy = round(accuracy_score(y_test, nb_y_predictions) * 100, 3)"
   ]
  },
  {
   "cell_type": "code",
   "execution_count": 39,
   "id": "8a23bee0-1126-4bdc-992f-40ae8c1c2bc3",
   "metadata": {},
   "outputs": [
    {
     "data": {
      "text/html": [
       "<div>\n",
       "<style scoped>\n",
       "    .dataframe tbody tr th:only-of-type {\n",
       "        vertical-align: middle;\n",
       "    }\n",
       "\n",
       "    .dataframe tbody tr th {\n",
       "        vertical-align: top;\n",
       "    }\n",
       "\n",
       "    .dataframe thead th {\n",
       "        text-align: right;\n",
       "    }\n",
       "</style>\n",
       "<table border=\"1\" class=\"dataframe\">\n",
       "  <thead>\n",
       "    <tr style=\"text-align: right;\">\n",
       "      <th></th>\n",
       "      <th>0</th>\n",
       "      <th>1</th>\n",
       "      <th>2</th>\n",
       "    </tr>\n",
       "  </thead>\n",
       "  <tbody>\n",
       "    <tr>\n",
       "      <th>0</th>\n",
       "      <td>106</td>\n",
       "      <td>0</td>\n",
       "      <td>37</td>\n",
       "    </tr>\n",
       "    <tr>\n",
       "      <th>1</th>\n",
       "      <td>0</td>\n",
       "      <td>510</td>\n",
       "      <td>0</td>\n",
       "    </tr>\n",
       "    <tr>\n",
       "      <th>2</th>\n",
       "      <td>0</td>\n",
       "      <td>3</td>\n",
       "      <td>469</td>\n",
       "    </tr>\n",
       "  </tbody>\n",
       "</table>\n",
       "</div>"
      ],
      "text/plain": [
       "     0    1    2\n",
       "0  106    0   37\n",
       "1    0  510    0\n",
       "2    0    3  469"
      ]
     },
     "execution_count": 39,
     "metadata": {},
     "output_type": "execute_result"
    }
   ],
   "source": [
    "nb_confusion_matrix"
   ]
  },
  {
   "cell_type": "code",
   "execution_count": 40,
   "id": "b33f0927-b9e1-45f6-99ac-bbd63a40ad93",
   "metadata": {},
   "outputs": [
    {
     "name": "stdout",
     "output_type": "stream",
     "text": [
      "The accuracy socre for the Naive Bayes classifier is ~96.444%\n"
     ]
    }
   ],
   "source": [
    "print('The accuracy socre for the Naive Bayes classifier is ~{}%'.format(nb_accuracy))"
   ]
  },
  {
   "cell_type": "markdown",
   "id": "94689eb1-cb27-45b6-a563-d576bcc323d0",
   "metadata": {},
   "source": [
    "Using this approach, the model was able to classify text into the appropriate category ~96 percent of the time. Given that this data contains 3 categories, the model outperformed a random guess approach (since randonly guessing would be correct ~33 percent of the time). \n",
    "\n",
    "Additionally, ~45.27 percent of the data is `neutral`. If this model was truly good as classifying, it would perform better than classifying all objects as the largest class. In fact, the simplest thing for the model to do is classify all objects as the largest category. Therefore, given that the largest category accounts for ~45.27 percent of the data, and the model achieved an accuracy score of ~96.4 percent, the model is an excellent performer."
   ]
  },
  {
   "cell_type": "code",
   "execution_count": 41,
   "id": "84d8d4bc-9f6f-4166-b138-96062e0be251",
   "metadata": {},
   "outputs": [],
   "source": [
    "# y_train"
   ]
  },
  {
   "cell_type": "code",
   "execution_count": 42,
   "id": "98a788a7-5e57-40cf-94b8-04f08c8f9454",
   "metadata": {},
   "outputs": [],
   "source": [
    "# X_train"
   ]
  },
  {
   "cell_type": "markdown",
   "id": "dca633f8-42c2-4807-8dff-1f88789b5bd6",
   "metadata": {},
   "source": [
    "## Examining Sentence Types"
   ]
  },
  {
   "cell_type": "markdown",
   "id": "da3ede32-2817-42e0-8a7c-4ba65a40db1d",
   "metadata": {},
   "source": [
    "### Neutral Sentences"
   ]
  },
  {
   "cell_type": "code",
   "execution_count": 43,
   "id": "1ec29596-f2d0-4be1-b689-e3211b88f0c3",
   "metadata": {},
   "outputs": [
    {
     "data": {
      "text/plain": [
       "[[('Tesla', 'NNP'),\n",
       "  ('Bulls', 'NNP'),\n",
       "  ('Are', 'NNP'),\n",
       "  ('Hiking', 'NNP'),\n",
       "  ('Price', 'NNP'),\n",
       "  ('Targets', 'NNS'),\n",
       "  ('.', '.')],\n",
       " [('MarketWatch', 'NN'),\n",
       "  ('Tuesday', 'NNP'),\n",
       "  ('evening', 'NN'),\n",
       "  (',', ','),\n",
       "  ('Goldman', 'NNP'),\n",
       "  ('Sachs', 'NNP'),\n",
       "  ('analyst', 'NN'),\n",
       "  ('Mark', 'NNP'),\n",
       "  ('Delaney', 'NNP'),\n",
       "  ('raised', 'VBD'),\n",
       "  ('his', 'PRP$'),\n",
       "  ('Tesla', 'NNP'),\n",
       "  ('price', 'NN'),\n",
       "  ('target', 'NN'),\n",
       "  ('to', 'TO'),\n",
       "  ('$1', 'VB'),\n",
       "  (',', ','),\n",
       "  ('125', 'CD'),\n",
       "  ('from', 'IN'),\n",
       "  ('$905', 'NN'),\n",
       "  ('a', 'DT'),\n",
       "  ('share', 'NN'),\n",
       "  ('.', '.')],\n",
       " [('He', 'PRP'),\n",
       "  ('is', 'VBZ'),\n",
       "  ('a', 'DT'),\n",
       "  ('Tesla', 'NNP'),\n",
       "  ('bull', 'NN'),\n",
       "  (',', ','),\n",
       "  ('rating', 'NN'),\n",
       "  ('shares', 'NNS'),\n",
       "  ('of', 'IN'),\n",
       "  ('the', 'DT'),\n",
       "  ('electric-vehicle', 'NN'),\n",
       "  ('giant', 'NN'),\n",
       "  ('at', 'IN'),\n",
       "  ('Buy', 'NNP'),\n",
       "  ('.', '.')],\n",
       " [('Democrats', 'NNPS'),\n",
       "  ('Release', 'NNP'),\n",
       "  ('Billionaires', 'NNP'),\n",
       "  (\"'\", 'POS'),\n",
       "  ('Tax', 'NNP'),\n",
       "  ('Plan', 'NN'),\n",
       "  ('.', '.')],\n",
       " [('Here', 'RB'),\n",
       "  ('Are', 'VBP'),\n",
       "  ('5', 'CD'),\n",
       "  ('Things', 'NNS'),\n",
       "  ('to', 'TO'),\n",
       "  ('Know', 'NNP'),\n",
       "  ('.', '.')]]"
      ]
     },
     "execution_count": 43,
     "metadata": {},
     "output_type": "execute_result"
    }
   ],
   "source": [
    "neutral_sentences_text_tokenized = [clean_text_data(sentence)['bigrams']['tokens'] for sentence in neutral_sentences]\n",
    "neutral_sentences_tagged_text = [nltk.pos_tag(token) for token in neutral_sentences_text_tokenized]\n",
    "neutral_sentences_tagged_text[:5]"
   ]
  },
  {
   "cell_type": "markdown",
   "id": "e1e1a711-6cdf-47f4-a5bf-0179d963ffde",
   "metadata": {},
   "source": [
    "#### Adverbs"
   ]
  },
  {
   "cell_type": "code",
   "execution_count": 44,
   "id": "2746ca0d-8c5e-431f-bda1-852353b441ae",
   "metadata": {},
   "outputs": [
    {
     "name": "stdout",
     "output_type": "stream",
     "text": [
      "First 10 adverb phrases for neutral sentences within Tesla articles are:  ['as soon ', 'also enough ', 'not just ', 'anytime soon ', 'Maybe Not ', 'anywhere soon ', 'now very likely ', 'just not ']\n"
     ]
    }
   ],
   "source": [
    "# tagging the adverb phrases \n",
    "neutral_advph_tags = []\n",
    "for sentence in neutral_sentences_tagged_text:\n",
    "    if len(sentence) > 0:\n",
    "        tree = chunk_parser_advph.parse(sentence)\n",
    "        for subtree in tree.subtrees():\n",
    "            if subtree.label() == 'ADVPH':\n",
    "                neutral_advph_tags.append(subtree)\n",
    "                \n",
    "# visualizing the adverb phrases\n",
    "neutral_advph_phrases = []\n",
    "for phrase in neutral_advph_tags:\n",
    "    temp = ''\n",
    "    for w, t in phrase:\n",
    "        temp += w+ ' '    \n",
    "    neutral_advph_phrases.append(temp)\n",
    "    \n",
    "print('First 10 adverb phrases for neutral sentences within Tesla articles are: ', neutral_advph_phrases[:10])"
   ]
  },
  {
   "cell_type": "code",
   "execution_count": 45,
   "id": "d075dcbb-6e8c-4708-a2e0-14ce318d9091",
   "metadata": {},
   "outputs": [
    {
     "name": "stdout",
     "output_type": "stream",
     "text": [
      "Top adverb phrases for neutral sentences by frequency within the Tesla articles are: \n",
      "as soon  1\n",
      "also enough  1\n",
      "not just  1\n",
      "anytime soon  1\n",
      "Maybe Not  1\n",
      "anywhere soon  1\n",
      "now very likely  1\n",
      "just not  1\n"
     ]
    }
   ],
   "source": [
    "# examining the freuqncy of the adverb phrases\n",
    "neutral_advph_frequency = nltk.FreqDist(neutral_advph_phrases)\n",
    "neutral_advph_frequency_words = []\n",
    "neutral_advph_frequency_fs = []\n",
    "\n",
    "\n",
    "print('Top adverb phrases for neutral sentences by frequency within the Tesla articles are: ')\n",
    "for word, freq in neutral_advph_frequency.most_common(50):\n",
    "    neutral_advph_frequency_words.append(word)\n",
    "    neutral_advph_frequency_fs.append(freq)\n",
    "    print(word, freq)"
   ]
  },
  {
   "cell_type": "markdown",
   "id": "656c7b26-9ff1-43dc-b0b2-3a7dcecb0285",
   "metadata": {},
   "source": [
    "The output above shows the top adverb phrases for neutral sentences (by frequencies). As the output shows, all phrases were found to have the same level of occurance. \n",
    "\n",
    "From examining the output, the phrases do not seem to have any particular sentiment associated with them."
   ]
  },
  {
   "cell_type": "code",
   "execution_count": 70,
   "id": "17d6d4b9-0c7b-4208-bc4a-145006a838d1",
   "metadata": {},
   "outputs": [
    {
     "data": {
      "text/plain": [
       "Text(0.5, 1.0, 'Distribution of (Top 20) Neutral Adverb Phrases, Tesla Articles')"
      ]
     },
     "execution_count": 70,
     "metadata": {},
     "output_type": "execute_result"
    },
    {
     "data": {
      "image/png": "[encoded data removed]",
      "text/plain": [
       "<Figure size 1440x360 with 1 Axes>"
      ]
     },
     "metadata": {
      "needs_background": "light"
     },
     "output_type": "display_data"
    }
   ],
   "source": [
    "fig = plt.figure(figsize = (20, 5))\n",
    "plt.plot(neutral_advph_frequency_words[:21], neutral_advph_frequency_fs[:21])\n",
    "plt.xticks(rotation = 60)\n",
    "plt.ylabel('Frequency')\n",
    "plt.xlabel('Phrase')\n",
    "plt.title('Distribution of (Top 20) Neutral Adverb Phrases, Tesla Articles')"
   ]
  },
  {
   "cell_type": "markdown",
   "id": "cef64fc7-0083-42cb-9bd0-b76f3431203a",
   "metadata": {},
   "source": [
    "#### Nouns"
   ]
  },
  {
   "cell_type": "code",
   "execution_count": 47,
   "id": "af9d6b71-1488-4f0e-8eec-82125a511fee",
   "metadata": {},
   "outputs": [
    {
     "name": "stdout",
     "output_type": "stream",
     "text": [
      "First 10 noun phrases for neutral sentences within Tesla articles are:  ['Tesla ', 'Bulls ', 'Are ', 'Hiking ', 'Price ', 'Tuesday ', 'Goldman ', 'Sachs ', 'Mark ', 'Delaney ']\n"
     ]
    }
   ],
   "source": [
    "# tagging the noun phrases \n",
    "neutral_nph_tags = []\n",
    "for sentence in neutral_sentences_tagged_text:\n",
    "    if len(sentence) > 0:\n",
    "        tree = chunk_parser_nph.parse(sentence)\n",
    "        for subtree in tree.subtrees():\n",
    "            if subtree.label() == 'NPH':\n",
    "                neutral_nph_tags.append(subtree)\n",
    "                \n",
    "# visualizing the noun phrases\n",
    "neutral_nph_phrases = []\n",
    "for phrase in neutral_nph_tags:\n",
    "    temp = ''\n",
    "    for w, t in phrase:\n",
    "        temp += w+ ' '    \n",
    "    neutral_nph_phrases.append(temp)\n",
    "    \n",
    "print('First 10 noun phrases for neutral sentences within Tesla articles are: ', neutral_nph_phrases[:10])"
   ]
  },
  {
   "cell_type": "code",
   "execution_count": 48,
   "id": "0f3730a8-f9e9-4e0c-8fde-3be921d4313a",
   "metadata": {},
   "outputs": [
    {
     "name": "stdout",
     "output_type": "stream",
     "text": [
      "Top noun phrases for neutral sentences by frequency within the Tesla articles are: \n",
      "Tesla  171\n",
      "MarketWatch  99\n",
      "Stock  66\n",
      "the stock  43\n",
      "Musk  31\n",
      "EV  26\n",
      "Elon  23\n",
      "Is  18\n",
      "Ford  16\n",
      "China  16\n",
      "Bitcoin  15\n",
      "Again  14\n",
      "CEO  14\n",
      "Could  12\n",
      "EVs  12\n",
      "the Stock  12\n",
      "Cathie  11\n",
      "Wood  11\n",
      "U.S.  11\n",
      "Thursday  11\n",
      "Tuesday  10\n",
      "Isn  10\n",
      "Know  9\n",
      "Chinese  9\n",
      "Has  9\n",
      "Amazon  9\n",
      "Street  9\n",
      "Auto  9\n",
      "the ADR  9\n",
      "ARK  8\n",
      "XPeng  8\n",
      "Will  8\n",
      "SpaceX  8\n",
      "Wednesday  8\n",
      "Wall  8\n",
      "The stock  8\n",
      "Monday  7\n",
      "NIO  7\n",
      "Jeff  7\n",
      "Bezos  7\n",
      "Says  7\n",
      "Buy  6\n",
      "Electric  6\n",
      "Into  6\n",
      "Market  6\n",
      "$1  6\n",
      "Shares  6\n",
      "Day  6\n",
      "Safety  6\n",
      "Earnings  6\n"
     ]
    }
   ],
   "source": [
    "# examining the freuqncy of the noun phrases\n",
    "neutral_nph_frequency = nltk.FreqDist(neutral_nph_phrases)\n",
    "neutral_nph_frequency_words = []\n",
    "neutral_nph_frequency_fs = []\n",
    "\n",
    "\n",
    "print('Top noun phrases for neutral sentences by frequency within the Tesla articles are: ')\n",
    "for word, freq in neutral_nph_frequency.most_common(50):\n",
    "    neutral_nph_frequency_words.append(word)\n",
    "    neutral_nph_frequency_fs.append(freq)\n",
    "    print(word, freq)"
   ]
  },
  {
   "cell_type": "code",
   "execution_count": 49,
   "id": "e9c5af84-8ca1-4073-b244-887708ff1ea4",
   "metadata": {},
   "outputs": [
    {
     "data": {
      "text/plain": [
       "Text(0.5, 1.0, 'Distribution of (Top 20) Neutral Noun Phrases, Tesla Articles')"
      ]
     },
     "execution_count": 49,
     "metadata": {},
     "output_type": "execute_result"
    },
    {
     "data": {
      "image/png": "[encoded data removed]",
      "text/plain": [
       "<Figure size 1440x360 with 1 Axes>"
      ]
     },
     "metadata": {
      "needs_background": "light"
     },
     "output_type": "display_data"
    }
   ],
   "source": [
    "fig = plt.figure(figsize = (20, 5))\n",
    "plt.plot(neutral_nph_frequency_words[:21], neutral_nph_frequency_fs[:21])\n",
    "plt.xticks(rotation = 60)\n",
    "plt.ylabel('Frequency')\n",
    "plt.xlabel('Phrase')\n",
    "plt.title('Distribution of (Top 20) Neutral Noun Phrases, Tesla Articles')"
   ]
  },
  {
   "cell_type": "markdown",
   "id": "a85c8be9-1980-492a-af7d-0883d8a40dbf",
   "metadata": {},
   "source": [
    "The table and graph above shows that the top noun for neutral phrases was Tesla. This is not very insightful because it is expected that `Tesla` would be found across all the sentiment categories.  However, the table also shows that all tokens identified were truly neutral because they do not seem to provide any context or sway the audience in any manner."
   ]
  },
  {
   "cell_type": "markdown",
   "id": "a39c057a-531b-4779-8b9d-b52429853520",
   "metadata": {},
   "source": [
    "#### Verbs"
   ]
  },
  {
   "cell_type": "code",
   "execution_count": 50,
   "id": "e7f98b4d-b6f3-4866-a10f-9712fc1d98e5",
   "metadata": {},
   "outputs": [
    {
     "name": "stdout",
     "output_type": "stream",
     "text": [
      "First 10 verb phrases for neutral sentences within Tesla articles are:  []\n"
     ]
    }
   ],
   "source": [
    "# tagging the noun phrases \n",
    "neutral_vph_tags = []\n",
    "for sentence in neutral_sentences_tagged_text:\n",
    "    if len(sentence) > 0:\n",
    "        tree = chunk_parser_nph.parse(sentence)\n",
    "        for subtree in tree.subtrees():\n",
    "            if subtree.label() == 'VPH':\n",
    "                neutral_vph_tags.append(subtree)\n",
    "                \n",
    "# visualizing the noun phrases\n",
    "neutral_vph_phrases = []\n",
    "for phrase in neutral_vph_tags:\n",
    "    temp = ''\n",
    "    for w, t in phrase:\n",
    "        temp += w+ ' '    \n",
    "    neutral_vph_phrases.append(temp)\n",
    "    \n",
    "print('First 10 verb phrases for neutral sentences within Tesla articles are: ', neutral_vph_phrases[:10])"
   ]
  },
  {
   "cell_type": "markdown",
   "id": "542c1356-23b3-4d6b-bb56-2dbc9b71b173",
   "metadata": {},
   "source": [
    "Surprisingly, there were no verb phrases identified. Despite this, multiple verbs were identified in previous steps of the analysis. Therefore, it suggests that there were no phrases which met the `verb` criteria after classification was conducted. Although this could be true, there is an element of error due to the classification exercise and the POS tagging algorithm which must be noted. "
   ]
  },
  {
   "cell_type": "markdown",
   "id": "80c186cc-49b9-4b39-9651-967fddb682f2",
   "metadata": {},
   "source": [
    "### Negative Sentences"
   ]
  },
  {
   "cell_type": "code",
   "execution_count": 51,
   "id": "be9a7f38-5af0-4332-87da-f3ff1b847cba",
   "metadata": {},
   "outputs": [
    {
     "data": {
      "text/plain": [
       "[[('Bears', 'NNS'),\n",
       "  ('Are', 'VBP'),\n",
       "  ('Holding', 'VBG'),\n",
       "  ('Firm', 'NNP'),\n",
       "  ('.', '.')],\n",
       " [('After', 'IN'),\n",
       "  ('deliveries', 'NNS'),\n",
       "  (',', ','),\n",
       "  ('earnings', 'NNS'),\n",
       "  (',', ','),\n",
       "  ('and', 'CC'),\n",
       "  ('Hertz', 'NNP'),\n",
       "  ('news', 'NN'),\n",
       "  (',', ','),\n",
       "  ('Tesla', 'NNP'),\n",
       "  ('bulls', 'NNS'),\n",
       "  ('are', 'VBP'),\n",
       "  ('doubling', 'VBG'),\n",
       "  ('down', 'RP'),\n",
       "  (',', ','),\n",
       "  ('raising', 'VBG'),\n",
       "  ('price', 'NN'),\n",
       "  ('targets', 'NNS'),\n",
       "  ('for', 'IN'),\n",
       "  ('Tesla', 'NNP'),\n",
       "  ('stock', 'NN'),\n",
       "  ('.', '.')],\n",
       " [('Nearly', 'RB'),\n",
       "  ('1', 'CD'),\n",
       "  ('in', 'IN'),\n",
       "  ('10', 'CD'),\n",
       "  ('S', 'NNP'),\n",
       "  ('P', 'NNP'),\n",
       "  ('500', 'CD'),\n",
       "  ('companies', 'NNS'),\n",
       "  ('were', 'VBD'),\n",
       "  ('scheduled', 'VBN'),\n",
       "  ('to', 'TO'),\n",
       "  ('release', 'VB'),\n",
       "  ('their', 'PRP$'),\n",
       "  ('third-quarter', 'JJ'),\n",
       "  ('results', 'NNS'),\n",
       "  (',', ','),\n",
       "  ('plus', 'CC'),\n",
       "  ('dozens', 'NNS'),\n",
       "  ('of', 'IN'),\n",
       "  ('small', 'JJ'),\n",
       "  ('and', 'CC'),\n",
       "  ('mid-cap', 'JJ'),\n",
       "  ('firms', 'NNS'),\n",
       "  ('.', '.')],\n",
       " [('MarketWatch', 'VB'),\n",
       "  ('The', 'DT'),\n",
       "  ('Dow', 'NNP'),\n",
       "  ('Industrials', 'NNP'),\n",
       "  ('and', 'CC'),\n",
       "  ('the', 'DT'),\n",
       "  ('S', 'NNP'),\n",
       "  ('P', 'NNP'),\n",
       "  ('500', 'CD'),\n",
       "  ('closed', 'VBD'),\n",
       "  ('at', 'IN'),\n",
       "  ('all-time', 'JJ'),\n",
       "  ('highs', 'NNS'),\n",
       "  ('again', 'RB'),\n",
       "  ('Tuesday', 'NNP'),\n",
       "  ('.', '.')],\n",
       " [('MarketWatch', 'VB'),\n",
       "  ('What', 'WP'),\n",
       "  ('a', 'DT'),\n",
       "  ('ride', 'NN'),\n",
       "  ('Tesla', 'NNP'),\n",
       "  ('investors', 'NNS'),\n",
       "  ('have', 'VBP'),\n",
       "  ('had', 'VBN'),\n",
       "  ('lately', 'RB'),\n",
       "  ('.', '.')]]"
      ]
     },
     "execution_count": 51,
     "metadata": {},
     "output_type": "execute_result"
    }
   ],
   "source": [
    "negative_sentences_text_tokenized = [clean_text_data(sentence)['bigrams']['tokens'] for sentence in negative_sentences]\n",
    "negative_sentences_tagged_text = [nltk.pos_tag(token) for token in negative_sentences_text_tokenized]\n",
    "negative_sentences_tagged_text[:5]"
   ]
  },
  {
   "cell_type": "markdown",
   "id": "a9697bbe-e67a-42f9-ac46-5af83551c1dc",
   "metadata": {},
   "source": [
    "#### Adverbs"
   ]
  },
  {
   "cell_type": "code",
   "execution_count": 52,
   "id": "41e8d7d9-cc06-4c81-ac41-c7a0b73e7eba",
   "metadata": {},
   "outputs": [
    {
     "name": "stdout",
     "output_type": "stream",
     "text": [
      "First 10 adverb phrases for negative sentences within Tesla articles are:  ['ever so slowly ahead ', 'Not only ', 'down almost ', 'not only ', 'much lately ', 'certainly not ', 'down again ', 'just maybe ', 'away usually ']\n"
     ]
    }
   ],
   "source": [
    "# tagging the adverb phrases \n",
    "negative_advph_tags = []\n",
    "for sentence in negative_sentences_tagged_text:\n",
    "    if len(sentence) > 0:\n",
    "        tree = chunk_parser_advph.parse(sentence)\n",
    "        for subtree in tree.subtrees():\n",
    "            if subtree.label() == 'ADVPH':\n",
    "                negative_advph_tags.append(subtree)\n",
    "                \n",
    "# visualizing the adverb phrases\n",
    "negative_advph_phrases = []\n",
    "for phrase in negative_advph_tags:\n",
    "    temp = ''\n",
    "    for w, t in phrase:\n",
    "        temp += w+ ' '    \n",
    "    negative_advph_phrases.append(temp)\n",
    "    \n",
    "print('First 10 adverb phrases for negative sentences within Tesla articles are: ', negative_advph_phrases[:10])"
   ]
  },
  {
   "cell_type": "code",
   "execution_count": 53,
   "id": "dcd7266a-7b40-44c6-be0a-928b9ff44fd6",
   "metadata": {},
   "outputs": [
    {
     "name": "stdout",
     "output_type": "stream",
     "text": [
      "Top adverb phrases for negative sentences by frequency within the Tesla articles are: \n",
      "ever so slowly ahead  1\n",
      "Not only  1\n",
      "down almost  1\n",
      "not only  1\n",
      "much lately  1\n",
      "certainly not  1\n",
      "down again  1\n",
      "just maybe  1\n",
      "away usually  1\n"
     ]
    }
   ],
   "source": [
    "# examining the freuqncy of the adverb phrases\n",
    "negative_advph_frequency = nltk.FreqDist(negative_advph_phrases)\n",
    "negative_advph_frequency_words = []\n",
    "negative_advph_frequency_fs = []\n",
    "\n",
    "\n",
    "print('Top adverb phrases for negative sentences by frequency within the Tesla articles are: ')\n",
    "for word, freq in negative_advph_frequency.most_common(50):\n",
    "    negative_advph_frequency_words.append(word)\n",
    "    negative_advph_frequency_fs.append(freq)\n",
    "    print(word, freq)"
   ]
  },
  {
   "cell_type": "code",
   "execution_count": 54,
   "id": "445440a1-4b70-4cdf-b4e8-5c8f32c7b5a9",
   "metadata": {},
   "outputs": [
    {
     "data": {
      "text/plain": [
       "Text(0.5, 1.0, 'Distribution of (Top 20) Negative Adverb Phrases, Tesla Articles')"
      ]
     },
     "execution_count": 54,
     "metadata": {},
     "output_type": "execute_result"
    },
    {
     "data": {
      "image/png": "[encoded data removed]",
      "text/plain": [
       "<Figure size 1440x360 with 1 Axes>"
      ]
     },
     "metadata": {
      "needs_background": "light"
     },
     "output_type": "display_data"
    }
   ],
   "source": [
    "fig = plt.figure(figsize = (20, 5))\n",
    "plt.plot(negative_advph_frequency_words[:21], negative_advph_frequency_fs[:21])\n",
    "plt.xticks(rotation = 60)\n",
    "plt.ylabel('Frequency')\n",
    "plt.xlabel('Phrase')\n",
    "plt.title('Distribution of (Top 20) Negative Adverb Phrases, Tesla Articles')"
   ]
  },
  {
   "cell_type": "markdown",
   "id": "4a2edd35-d576-48ae-93eb-14135f2edb99",
   "metadata": {},
   "source": [
    "#### Nouns"
   ]
  },
  {
   "cell_type": "code",
   "execution_count": 55,
   "id": "fe74774b-46d0-4fab-8ca8-87892975c544",
   "metadata": {},
   "outputs": [
    {
     "name": "stdout",
     "output_type": "stream",
     "text": [
      "First 10 noun phrases for negative sentences within Tesla articles are:  ['Firm ', 'Hertz ', 'Tesla ', 'Tesla ', 'S ', 'P ', 'The Dow ', 'Industrials ', 'the S ', 'P ']\n"
     ]
    }
   ],
   "source": [
    "# tagging the noun phrases \n",
    "negative_nph_tags = []\n",
    "for sentence in negative_sentences_tagged_text:\n",
    "    if len(sentence) > 0:\n",
    "        tree = chunk_parser_nph.parse(sentence)\n",
    "        for subtree in tree.subtrees():\n",
    "            if subtree.label() == 'NPH':\n",
    "                negative_nph_tags.append(subtree)\n",
    "                \n",
    "# visualizing the noun phrases\n",
    "negative_nph_phrases = []\n",
    "for phrase in negative_nph_tags:\n",
    "    temp = ''\n",
    "    for w, t in phrase:\n",
    "        temp += w+ ' '    \n",
    "    negative_nph_phrases.append(temp)\n",
    "    \n",
    "print('First 10 noun phrases for negative sentences within Tesla articles are: ', negative_nph_phrases[:10])"
   ]
  },
  {
   "cell_type": "code",
   "execution_count": 56,
   "id": "fbe76a8a-cfc0-4a78-af78-21ca584b0dea",
   "metadata": {},
   "outputs": [
    {
     "name": "stdout",
     "output_type": "stream",
     "text": [
      "Top noun phrases for negative sentences by frequency within the Tesla articles are: \n",
      "MarketWatch  79\n",
      "Tesla  50\n",
      "the stock  22\n",
      "Co  20\n",
      "Jones  19\n",
      "Industrial  19\n",
      "Average  19\n",
      "Stock  17\n",
      "Shares  17\n",
      "Ford  17\n",
      "Index  17\n",
      "Dow  17\n",
      "DJIA  17\n",
      "P  15\n",
      "the S  14\n",
      "Monday  14\n",
      "Motor  14\n",
      "Inc  14\n",
      "General  13\n",
      "China  12\n",
      "Wednesday  11\n",
      "NIO  10\n",
      "SPX  10\n",
      "Tuesday  9\n",
      "U.S.  9\n",
      "EV  8\n",
      "GM  8\n",
      "ADR  8\n",
      "Thursday  7\n",
      "Group  7\n",
      "Bitcoin  7\n",
      "the day  7\n",
      "the NASDAQ  7\n",
      "Composite  7\n",
      "COMP  7\n",
      "the company  6\n",
      "Crushed  6\n",
      "Is  6\n",
      "F  6\n",
      "Workhorse  6\n",
      "Stocks  5\n",
      "News  5\n",
      "Cathie  5\n",
      "Wood  5\n",
      "Electric-vehicle  4\n",
      "May  4\n",
      "The stock  4\n",
      "Bad  4\n",
      "Motors  4\n",
      "the U.S.  4\n"
     ]
    }
   ],
   "source": [
    "# examining the freuqncy of the noun phrases\n",
    "negative_nph_frequency = nltk.FreqDist(negative_nph_phrases)\n",
    "negative_nph_frequency_words = []\n",
    "negative_nph_frequency_fs = []\n",
    "\n",
    "\n",
    "print('Top noun phrases for negative sentences by frequency within the Tesla articles are: ')\n",
    "for word, freq in negative_nph_frequency.most_common(50):\n",
    "    negative_nph_frequency_words.append(word)\n",
    "    negative_nph_frequency_fs.append(freq)\n",
    "    print(word, freq)"
   ]
  },
  {
   "cell_type": "code",
   "execution_count": 57,
   "id": "708d5ef6-9f54-4e2c-ac81-e78604c9d717",
   "metadata": {},
   "outputs": [
    {
     "data": {
      "text/plain": [
       "Text(0.5, 1.0, 'Distribution of (Top 20) Negative Noun Phrases, Tesla Articles')"
      ]
     },
     "execution_count": 57,
     "metadata": {},
     "output_type": "execute_result"
    },
    {
     "data": {
      "image/png": "[encoded data removed]",
      "text/plain": [
       "<Figure size 1440x360 with 1 Axes>"
      ]
     },
     "metadata": {
      "needs_background": "light"
     },
     "output_type": "display_data"
    }
   ],
   "source": [
    "fig = plt.figure(figsize = (20, 5))\n",
    "plt.plot(negative_nph_frequency_words[:21], negative_nph_frequency_fs[:21])\n",
    "plt.xticks(rotation = 60)\n",
    "plt.ylabel('Frequency')\n",
    "plt.xlabel('Phrase')\n",
    "plt.title('Distribution of (Top 20) Negative Noun Phrases, Tesla Articles')"
   ]
  },
  {
   "cell_type": "markdown",
   "id": "66a72c5c-5ab0-4ec9-b9e4-4b33419d8f73",
   "metadata": {},
   "source": [
    "#### Verbs"
   ]
  },
  {
   "cell_type": "code",
   "execution_count": 58,
   "id": "b6f0e10d-7f5d-49e2-bbda-15b2ae361ad9",
   "metadata": {},
   "outputs": [
    {
     "name": "stdout",
     "output_type": "stream",
     "text": [
      "First 10 verb phrases for negative sentences within Tesla articles are:  []\n"
     ]
    }
   ],
   "source": [
    "# tagging the noun phrases \n",
    "negative_vph_tags = []\n",
    "for sentence in negative_sentences_tagged_text:\n",
    "    if len(sentence) > 0:\n",
    "        tree = chunk_parser_nph.parse(sentence)\n",
    "        for subtree in tree.subtrees():\n",
    "            if subtree.label() == 'VPH':\n",
    "                negative_vph_tags.append(subtree)\n",
    "                \n",
    "# visualizing the noun phrases\n",
    "negative_vph_phrases = []\n",
    "for phrase in negative_vph_tags:\n",
    "    temp = ''\n",
    "    for w, t in phrase:\n",
    "        temp += w+ ' '    \n",
    "    negative_vph_phrases.append(temp)\n",
    "    \n",
    "print('First 10 verb phrases for negative sentences within Tesla articles are: ', negative_vph_phrases[:10])"
   ]
  },
  {
   "cell_type": "markdown",
   "id": "bf235664-ed4b-49f2-9ce5-170727256dc7",
   "metadata": {},
   "source": [
    "### Positive Sentences"
   ]
  },
  {
   "cell_type": "code",
   "execution_count": 59,
   "id": "e35e4fcd-f9a2-41c6-b9ab-6e441bd66669",
   "metadata": {},
   "outputs": [
    {
     "data": {
      "text/plain": [
       "[[('Tesla-Hertz', 'JJ'),\n",
       "  ('Deal', 'NNP'),\n",
       "  ('Is', 'VBZ'),\n",
       "  ('Great', 'NNP'),\n",
       "  ('News', 'NNP'),\n",
       "  ('for', 'IN'),\n",
       "  ('Carvana', 'NNP'),\n",
       "  ('Stock', 'NNP'),\n",
       "  ('MarketWatch', 'NNP'),\n",
       "  ('The', 'DT'),\n",
       "  ('move', 'NN'),\n",
       "  ('by', 'IN'),\n",
       "  ('Hertz', 'NNP'),\n",
       "  ('Global', 'NNP'),\n",
       "  ('to', 'TO'),\n",
       "  ('bulk', 'VB'),\n",
       "  ('up', 'RP'),\n",
       "  ('its', 'PRP$'),\n",
       "  ('global', 'JJ'),\n",
       "  ('fleet', 'NN'),\n",
       "  ('of', 'IN'),\n",
       "  ('rentals', 'NNS'),\n",
       "  ('with', 'IN'),\n",
       "  ('100', 'CD'),\n",
       "  (',', ','),\n",
       "  ('000', 'CD'),\n",
       "  ('electric', 'JJ'),\n",
       "  ('vehicles', 'NNS'),\n",
       "  ('from', 'IN'),\n",
       "  ('Tesla', 'NNP'),\n",
       "  ('is', 'VBZ'),\n",
       "  ('great', 'JJ'),\n",
       "  ('news', 'NN'),\n",
       "  ('for', 'IN'),\n",
       "  ('Carvana', 'NNP'),\n",
       "  (',', ','),\n",
       "  ('which', 'WDT'),\n",
       "  ('will', 'MD'),\n",
       "  ('work', 'VB'),\n",
       "  ('with', 'IN'),\n",
       "  ('Hertz', 'NNP'),\n",
       "  ('to', 'TO'),\n",
       "  ('dispose', 'VB'),\n",
       "  ('of', 'IN'),\n",
       "  ('its', 'PRP$'),\n",
       "  ('unwanted', 'JJ'),\n",
       "  ('cars', 'NNS'),\n",
       "  ('.', '.')],\n",
       " [('The', 'DT'),\n",
       "  ('bears', 'NNS'),\n",
       "  ('aren', 'VBP'),\n",
       "  ('t', 'JJ'),\n",
       "  ('really', 'RB'),\n",
       "  ('budging', 'VBG'),\n",
       "  (',', ','),\n",
       "  ('though', 'RB'),\n",
       "  ('.', '.')],\n",
       " [('That', 'DT'),\n",
       "  ('means', 'VBZ'),\n",
       "  ('the', 'DT'),\n",
       "  ('Tesla', 'NNP'),\n",
       "  ('division', 'NN'),\n",
       "  ('is', 'VBZ'),\n",
       "  ('at', 'IN'),\n",
       "  ('an', 'DT'),\n",
       "  ('all-time', 'JJ'),\n",
       "  ('high', 'NN'),\n",
       "  ('.', '.')],\n",
       " [('Stock', 'NN'),\n",
       "  ('Market', 'NN'),\n",
       "  ('Today', 'NN'),\n",
       "  (':', ':'),\n",
       "  ('Dow', 'NNP'),\n",
       "  ('Holds', 'NNP'),\n",
       "  ('Near', 'NNP'),\n",
       "  ('High', 'NNP'),\n",
       "  ('as', 'IN'),\n",
       "  ('Microsoft', 'NNP'),\n",
       "  (',', ','),\n",
       "  ('Coca-Cola', 'NNP'),\n",
       "  ('Gain', 'NNP'),\n",
       "  ('on', 'IN'),\n",
       "  ('Earnings', 'NNP'),\n",
       "  ('MarketWatch', 'NNP'),\n",
       "  ('The', 'DT'),\n",
       "  ('Dow', 'NNP'),\n",
       "  ('Jones', 'NNP'),\n",
       "  ('Industrial', 'NNP'),\n",
       "  ('Average', 'NNP'),\n",
       "  ('and', 'CC'),\n",
       "  ('S', 'NNP'),\n",
       "  ('P', 'NNP'),\n",
       "  ('500', 'CD'),\n",
       "  ('hovered', 'VBD'),\n",
       "  ('near', 'IN'),\n",
       "  ('all-time', 'JJ'),\n",
       "  ('highs', 'NNS'),\n",
       "  ('on', 'IN'),\n",
       "  ('a', 'DT'),\n",
       "  ('jam-packed', 'JJ'),\n",
       "  ('day', 'NN'),\n",
       "  ('of', 'IN'),\n",
       "  ('earnings', 'NNS'),\n",
       "  ('reports', 'NNS'),\n",
       "  ('Wednesday', 'NNP'),\n",
       "  ('.', '.')],\n",
       " [('MarketWatch', 'NN'),\n",
       "  ('Democrats', 'NNPS'),\n",
       "  ('unveiled', 'VBD'),\n",
       "  ('a', 'DT'),\n",
       "  ('proposal', 'NN'),\n",
       "  ('to', 'TO'),\n",
       "  ('tax', 'NN'),\n",
       "  ('billionaires', 'NNS'),\n",
       "  ('unrealized', 'JJ'),\n",
       "  ('capital', 'NN'),\n",
       "  ('gains', 'NNS'),\n",
       "  ('in', 'IN'),\n",
       "  ('a', 'DT'),\n",
       "  ('bid', 'NN'),\n",
       "  ('to', 'TO'),\n",
       "  ('raise', 'VB'),\n",
       "  ('sufficient', 'JJ'),\n",
       "  ('revenue', 'NN'),\n",
       "  ('to', 'TO'),\n",
       "  ('fund', 'VB'),\n",
       "  ('President', 'NNP'),\n",
       "  ('Joe', 'NNP'),\n",
       "  ('Biden', 'NNP'),\n",
       "  ('s', 'VBD'),\n",
       "  ('multi-trillion', 'JJ'),\n",
       "  ('dollar', 'NN'),\n",
       "  ('social', 'JJ'),\n",
       "  ('spending', 'NN'),\n",
       "  ('bill', 'NN'),\n",
       "  ('.', '.')]]"
      ]
     },
     "execution_count": 59,
     "metadata": {},
     "output_type": "execute_result"
    }
   ],
   "source": [
    "positive_sentences_text_tokenized = [clean_text_data(sentence)['bigrams']['tokens'] for sentence in positive_sentences]\n",
    "positive_sentences_tagged_text = [nltk.pos_tag(token) for token in positive_sentences_text_tokenized]\n",
    "positive_sentences_tagged_text[:5]"
   ]
  },
  {
   "cell_type": "markdown",
   "id": "9ae7b473-8d6b-4014-b9b0-77a219eb4c75",
   "metadata": {},
   "source": [
    "#### Adverbs"
   ]
  },
  {
   "cell_type": "code",
   "execution_count": 60,
   "id": "ce110254-facf-40a4-bc6c-3690fa049c91",
   "metadata": {},
   "outputs": [
    {
     "name": "stdout",
     "output_type": "stream",
     "text": [
      "First 10 adverb phrases for positive sentences within Tesla articles are:  ['as well ', 'pretty well ', 'up almost ', 'very well ', 'fun again ', 'just yet ', 'about much ', 'right now ', 'up just ', 'down again ']\n"
     ]
    }
   ],
   "source": [
    "# tagging the adverb phrases \n",
    "positive_advph_tags = []\n",
    "for sentence in positive_sentences_tagged_text:\n",
    "    if len(sentence) > 0:\n",
    "        tree = chunk_parser_advph.parse(sentence)\n",
    "        for subtree in tree.subtrees():\n",
    "            if subtree.label() == 'ADVPH':\n",
    "                positive_advph_tags.append(subtree)\n",
    "                \n",
    "# visualizing the adverb phrases\n",
    "positive_advph_phrases = []\n",
    "for phrase in positive_advph_tags:\n",
    "    temp = ''\n",
    "    for w, t in phrase:\n",
    "        temp += w+ ' '    \n",
    "    positive_advph_phrases.append(temp)\n",
    "    \n",
    "print('First 10 adverb phrases for positive sentences within Tesla articles are: ', positive_advph_phrases[:10])"
   ]
  },
  {
   "cell_type": "code",
   "execution_count": 61,
   "id": "d6bce0fa-51a4-4e86-8da6-ec13f7c2ae38",
   "metadata": {},
   "outputs": [
    {
     "name": "stdout",
     "output_type": "stream",
     "text": [
      "Top adverb phrases for positive sentences by frequency within the Tesla articles are: \n",
      "as well  2\n",
      "pretty well  1\n",
      "up almost  1\n",
      "very well  1\n",
      "fun again  1\n",
      "just yet  1\n",
      "about much  1\n",
      "right now  1\n",
      "up just  1\n",
      "down again  1\n",
      "as much  1\n",
      "not necessarily  1\n",
      "up again  1\n",
      "so much  1\n",
      "out so well  1\n",
      "Right now  1\n",
      "not so  1\n"
     ]
    }
   ],
   "source": [
    "# examining the freuqncy of the adverb phrases\n",
    "positive_advph_frequency = nltk.FreqDist(positive_advph_phrases)\n",
    "positive_advph_frequency_words = []\n",
    "positive_advph_frequency_fs = []\n",
    "\n",
    "\n",
    "print('Top adverb phrases for positive sentences by frequency within the Tesla articles are: ')\n",
    "for word, freq in positive_advph_frequency.most_common(50):\n",
    "    positive_advph_frequency_words.append(word)\n",
    "    positive_advph_frequency_fs.append(freq)\n",
    "    print(word, freq)"
   ]
  },
  {
   "cell_type": "code",
   "execution_count": 62,
   "id": "14c15ceb-d904-45af-b6ed-38b1047741a5",
   "metadata": {},
   "outputs": [
    {
     "data": {
      "text/plain": [
       "Text(0.5, 1.0, 'Distribution of (Top 20) Positive Adverb Phrases, Tesla Articles')"
      ]
     },
     "execution_count": 62,
     "metadata": {},
     "output_type": "execute_result"
    },
    {
     "data": {
      "image/png": "[encoded data removed]",
      "text/plain": [
       "<Figure size 1440x360 with 1 Axes>"
      ]
     },
     "metadata": {
      "needs_background": "light"
     },
     "output_type": "display_data"
    }
   ],
   "source": [
    "fig = plt.figure(figsize = (20, 5))\n",
    "plt.plot(positive_advph_frequency_words[:21], positive_advph_frequency_fs[:21])\n",
    "plt.xticks(rotation = 60)\n",
    "plt.ylabel('Frequency')\n",
    "plt.xlabel('Phrase')\n",
    "plt.title('Distribution of (Top 20) Positive Adverb Phrases, Tesla Articles')"
   ]
  },
  {
   "cell_type": "markdown",
   "id": "033ee1e0-e0c6-4fc0-a25a-f913d69aa727",
   "metadata": {},
   "source": [
    "#### Nouns"
   ]
  },
  {
   "cell_type": "code",
   "execution_count": 63,
   "id": "9582bb5a-d78d-4fb8-afc9-93a04fd68db5",
   "metadata": {},
   "outputs": [
    {
     "name": "stdout",
     "output_type": "stream",
     "text": [
      "First 10 noun phrases for positive sentences within Tesla articles are:  ['Deal ', 'Great ', 'News ', 'Carvana ', 'Stock ', 'MarketWatch ', 'The move ', 'Hertz ', 'Global ', 'Tesla ']\n"
     ]
    }
   ],
   "source": [
    "# tagging the noun phrases \n",
    "positive_nph_tags = []\n",
    "for sentence in positive_sentences_tagged_text:\n",
    "    if len(sentence) > 0:\n",
    "        tree = chunk_parser_nph.parse(sentence)\n",
    "        for subtree in tree.subtrees():\n",
    "            if subtree.label() == 'NPH':\n",
    "                positive_nph_tags.append(subtree)\n",
    "                \n",
    "# visualizing the noun phrases\n",
    "positive_nph_phrases = []\n",
    "for phrase in positive_nph_tags:\n",
    "    temp = ''\n",
    "    for w, t in phrase:\n",
    "        temp += w+ ' '    \n",
    "    positive_nph_phrases.append(temp)\n",
    "    \n",
    "print('First 10 noun phrases for positive sentences within Tesla articles are: ', positive_nph_phrases[:10])"
   ]
  },
  {
   "cell_type": "code",
   "execution_count": 64,
   "id": "12f34a02-59d7-4fda-b1b5-6d90d4374359",
   "metadata": {},
   "outputs": [
    {
     "name": "stdout",
     "output_type": "stream",
     "text": [
      "Top noun phrases for positive sentences by frequency within the Tesla articles are: \n",
      "MarketWatch  253\n",
      "Tesla  154\n",
      "Inc  121\n",
      "Co  109\n",
      "the company  103\n",
      "the stock  87\n",
      "General  77\n",
      "Jones  75\n",
      "Industrial  74\n",
      "Average  74\n",
      "Index  74\n",
      "DJIA  71\n",
      "NIO  70\n",
      "Ford  69\n",
      "Motor  65\n",
      "Group  65\n",
      "Workhorse  63\n",
      "ADR  58\n",
      "Shares  57\n",
      "Stock  55\n",
      "the Dow  54\n",
      "P  45\n",
      "Composite  40\n",
      "the NASDAQ  38\n",
      "COMP  38\n",
      "Musk  37\n",
      "Thursday  37\n",
      "Friday  36\n",
      "the S  35\n",
      "Wednesday  34\n",
      "Elon  34\n",
      "SPX  33\n",
      "EV  31\n",
      "Tuesday  29\n",
      "Monday  29\n",
      "GM  27\n",
      "China  26\n",
      "February  24\n",
      "$42.96  23\n",
      "CEO  22\n",
      "$66.99  22\n",
      "January  22\n",
      "Dow  21\n",
      "Bitcoin  20\n",
      "WKHS  20\n",
      "$63.44  20\n",
      "April  20\n",
      "U.S.  18\n",
      "The NIO  18\n",
      "March  17\n"
     ]
    }
   ],
   "source": [
    "# examining the freuqncy of the noun phrases\n",
    "positive_nph_frequency = nltk.FreqDist(positive_nph_phrases)\n",
    "positive_nph_frequency_words = []\n",
    "positive_nph_frequency_fs = []\n",
    "\n",
    "\n",
    "print('Top noun phrases for positive sentences by frequency within the Tesla articles are: ')\n",
    "for word, freq in positive_nph_frequency.most_common(50):\n",
    "    positive_nph_frequency_words.append(word)\n",
    "    positive_nph_frequency_fs.append(freq)\n",
    "    print(word, freq)"
   ]
  },
  {
   "cell_type": "code",
   "execution_count": 65,
   "id": "199a4b07-ac40-4616-b91c-46048cfe3bff",
   "metadata": {},
   "outputs": [
    {
     "data": {
      "text/plain": [
       "Text(0.5, 1.0, 'Distribution of (Top 20) Positive Noun Phrases, Tesla Articles')"
      ]
     },
     "execution_count": 65,
     "metadata": {},
     "output_type": "execute_result"
    },
    {
     "data": {
      "image/png": "[encoded data removed]",
      "text/plain": [
       "<Figure size 1440x360 with 1 Axes>"
      ]
     },
     "metadata": {
      "needs_background": "light"
     },
     "output_type": "display_data"
    }
   ],
   "source": [
    "fig = plt.figure(figsize = (20, 5))\n",
    "plt.plot(positive_nph_frequency_words[:21], positive_nph_frequency_fs[:21])\n",
    "plt.xticks(rotation = 60)\n",
    "plt.ylabel('Frequency')\n",
    "plt.xlabel('Phrase')\n",
    "plt.title('Distribution of (Top 20) Positive Noun Phrases, Tesla Articles')"
   ]
  },
  {
   "cell_type": "markdown",
   "id": "362d4c72-e30c-4f1f-b90a-35c002645d54",
   "metadata": {},
   "source": [
    "#### Verbs"
   ]
  },
  {
   "cell_type": "code",
   "execution_count": 66,
   "id": "9ec8e3b3-1e4f-44c9-84e0-6b60cc17b26c",
   "metadata": {},
   "outputs": [
    {
     "name": "stdout",
     "output_type": "stream",
     "text": [
      "First 10 verb phrases for positive sentences within Tesla articles are:  []\n"
     ]
    }
   ],
   "source": [
    "# tagging the noun phrases \n",
    "positive_vph_tags = []\n",
    "for sentence in positive_sentences_tagged_text:\n",
    "    if len(sentence) > 0:\n",
    "        tree = chunk_parser_nph.parse(sentence)\n",
    "        for subtree in tree.subtrees():\n",
    "            if subtree.label() == 'VPH':\n",
    "                positive_vph_tags.append(subtree)\n",
    "                \n",
    "# visualizing the noun phrases\n",
    "positive_vph_phrases = []\n",
    "for phrase in positive_vph_tags:\n",
    "    temp = ''\n",
    "    for w, t in phrase:\n",
    "        temp += w+ ' '    \n",
    "    positive_vph_phrases.append(temp)\n",
    "    \n",
    "print('First 10 verb phrases for positive sentences within Tesla articles are: ', positive_vph_phrases[:10])"
   ]
  },
  {
   "cell_type": "markdown",
   "id": "c5d681f5-00b4-43d6-adb2-1508fa42edd7",
   "metadata": {},
   "source": [
    "## Conclusions"
   ]
  },
  {
   "cell_type": "markdown",
   "id": "9c9012d4-828f-400f-8e3c-fd815fe97f04",
   "metadata": {},
   "source": [
    "After model creation and analysis, it was found that it is very difficult to build classifiers to appropriately classify text documents. Despite the challenges, I was able to utilize the subjectivity of phrases within text documents and develop a `Naive Bayes` classifier model with had an accuracy of ~96 percent. \n",
    "\n",
    "It was also found that examining the text at the sentiment classification level and part-of-speech provided no further context than simply analyzing the text at the part-of-speech level only. This is because the words and phrases identified at each sentiment classification and part-of-speech level was identical. The difference, therefore, would most likely be function of greater context within the text document. If this is true, then more sophisticated classification models would need to be investigated (such as deep neural network or LSTM models). Said differently, it is possible that the classification of phrases within the text documents rely on long-term dependencies within the text, and this is not caputured when using methods such as `bag of words`.\n",
    "\n",
    "This also provides insight as to why the subjectivity model outperformed the unigram and bigram models. The subjectivity score given to each phrase within the text documents would be a function of long-term dependencies. Therefore, through using the subjectivity as an input, the model was able to identify stronger relationships between the text and the classifications, allowing it to predict values with a higher level of accuracy.\n",
    "\n",
    "To conclude, recall that the initial goal was to be able to identify a difference in writing styles or the way that information is presented between financial articles and storytelling.\n",
    "\n",
    "Based on the corpus statistics and corpora comparisons previously performed, it is possible to identify a difference in writing styles. Combining the previous knowledge with the newly found insights, it can be inferred that financial articles primarily present facts in the form of fluctuation, comparison, and performance. Whereas storytelling is very descriptive, containing much less facts and comparisons when compared to the financial articles. \n",
    "\n",
    "Additionally, previous investigation showed that sentences within storytelling are typically longer than sentences within financial articles. Although the difference could be negligible in this instance, this insight further solidifies inferences from the previous analysis, where it was found that the financial articles contained a large portion of periods and Hamlet contained a large portion of commas.\n",
    "\n",
    "Lastly, this analysis showed that work should be done to understand long-term dependency between text, as this could allow for better classification and prediction (when necessary)."
   ]
  }
 ],
 "metadata": {
  "kernelspec": {
   "display_name": "Python 3",
   "language": "python",
   "name": "python3"
  },
  "language_info": {
   "codemirror_mode": {
    "name": "ipython",
    "version": 3
   },
   "file_extension": ".py",
   "mimetype": "text/x-python",
   "name": "python",
   "nbconvert_exporter": "python",
   "pygments_lexer": "ipython3",
   "version": "3.8.8"
  }
 },
 "nbformat": 4,
 "nbformat_minor": 5
}
